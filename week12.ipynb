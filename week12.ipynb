{
 "cells": [
  {
   "cell_type": "code",
   "execution_count": 4,
   "metadata": {},
   "outputs": [
    {
     "name": "stdout",
     "output_type": "stream",
     "text": [
      "[[ 4  2  2]\n",
      " [-1  1 -1]\n",
      " [ 6  6  8]]\n",
      "Eigenvalue 0 = 9.00, eigenvector = [ 0.31234752 -0.15617376  0.93704257]\n",
      "Eigenvalue 1 = 2.00, eigenvector = [ 0.63500064  0.12700013 -0.76200076]\n",
      "Eigenvalue 2 = 2.00, eigenvector = [-0.46832893  0.81338896 -0.34506002]\n"
     ]
    }
   ],
   "source": [
    "import numpy as np\n",
    "from numpy import linalg as LA\n",
    "\n",
    "# eigenvalues and eigenvectors\n",
    "A = np.array([[4, 2, 2],\n",
    "              [-1, 1, -1],\n",
    "              [6, 6, 8]])\n",
    "w, v = LA.eig(A)\n",
    "print(A)\n",
    "for i in range(w.size):\n",
    "    print(f'Eigenvalue {i} = {w[i]:.2f}, eigenvector = {v[:,i]}')"
   ]
  },
  {
   "cell_type": "code",
   "execution_count": 10,
   "metadata": {},
   "outputs": [
    {
     "data": {
      "text/plain": [
       "13"
      ]
     },
     "execution_count": 10,
     "metadata": {},
     "output_type": "execute_result"
    }
   ],
   "source": [
    "np.trace(A)"
   ]
  },
  {
   "cell_type": "code",
   "execution_count": 11,
   "metadata": {},
   "outputs": [
    {
     "data": {
      "text/plain": [
       "13.0"
      ]
     },
     "execution_count": 11,
     "metadata": {},
     "output_type": "execute_result"
    }
   ],
   "source": [
    "np.round(w.sum(),2)"
   ]
  },
  {
   "cell_type": "code",
   "execution_count": 13,
   "metadata": {},
   "outputs": [
    {
     "data": {
      "text/plain": [
       "36.0"
      ]
     },
     "execution_count": 13,
     "metadata": {},
     "output_type": "execute_result"
    }
   ],
   "source": [
    "LA.det(A)"
   ]
  },
  {
   "cell_type": "code",
   "execution_count": 16,
   "metadata": {},
   "outputs": [
    {
     "data": {
      "text/plain": [
       "36.0"
      ]
     },
     "execution_count": 16,
     "metadata": {},
     "output_type": "execute_result"
    }
   ],
   "source": [
    "np.round(np.prod(w), 2)"
   ]
  },
  {
   "cell_type": "code",
   "execution_count": 17,
   "metadata": {},
   "outputs": [
    {
     "name": "stdout",
     "output_type": "stream",
     "text": [
      "[[ 3  6 -8]\n",
      " [ 0  0  6]\n",
      " [ 0  0  2]]\n",
      "Eigenvalue 0 = 3.0, eigenvector = [1. 0. 0.]\n",
      "Eigenvalue 1 = 0.0, eigenvector = [-0.89442719  0.4472136   0.        ]\n",
      "Eigenvalue 2 = 2.0, eigenvector = [-0.95346259  0.28603878  0.09534626]\n"
     ]
    }
   ],
   "source": [
    "A = np.array([[3, 6, -8], \n",
    "              [0, 0, 6], \n",
    "              [0, 0, 2]])\n",
    "w, v = LA.eig(A)\n",
    "print(A)\n",
    "for i in range(w.size):\n",
    "    print(f'Eigenvalue {i} = {w[i]}, eigenvector = {v[:,i]}')"
   ]
  },
  {
   "cell_type": "code",
   "execution_count": 18,
   "metadata": {},
   "outputs": [
    {
     "name": "stdout",
     "output_type": "stream",
     "text": [
      "[[ 4  0  0]\n",
      " [-2  1  0]\n",
      " [ 5  3  4]]\n",
      "Eigenvalue 0 = 4.0, eigenvector = [0. 0. 1.]\n",
      "Eigenvalue 1 = 1.0, eigenvector = [ 0.          0.70710678 -0.70710678]\n",
      "Eigenvalue 2 = 4.0, eigenvector = [ 2.96059473e-16 -1.97372982e-16 -1.00000000e+00]\n"
     ]
    }
   ],
   "source": [
    "B = np.array([[4, 0, 0], \n",
    "              [-2, 1, 0], \n",
    "              [5, 3, 4]])\n",
    "w, v = LA.eig(B)\n",
    "print(B)\n",
    "for i in range(w.size):\n",
    "    print(f'Eigenvalue {i} = {w[i]}, eigenvector = {v[:,i]}')"
   ]
  },
  {
   "cell_type": "code",
   "execution_count": 19,
   "metadata": {},
   "outputs": [
    {
     "name": "stdout",
     "output_type": "stream",
     "text": [
      "det(B - λ I) =  0.0\n"
     ]
    }
   ],
   "source": [
    "# det(A- lambda I) = 0\n",
    "print('det(B - \\u03BB I) = ', np.linalg.det(B - w[0]*np.eye(3)))"
   ]
  },
  {
   "cell_type": "code",
   "execution_count": 20,
   "metadata": {},
   "outputs": [
    {
     "name": "stdout",
     "output_type": "stream",
     "text": [
      "[[ 1  3  3]\n",
      " [-3 -5 -3]\n",
      " [ 3  3  1]]\n",
      "Eigenvalue 0 = 1.0, eigenvector = [ 0.57735027 -0.57735027  0.57735027]\n",
      "Eigenvalue 1 = -2.0, eigenvector = [-1.28197512e-16 -7.07106781e-01  7.07106781e-01]\n",
      "Eigenvalue 2 = -1.9999999999999996, eigenvector = [-0.67265405  0.73714169 -0.06448763]\n",
      "AP = \n",
      " [[ 0.57735027  0.          1.34530811]\n",
      " [-0.57735027  1.41421356 -1.47428338]\n",
      " [ 0.57735027 -1.41421356  0.12897527]]\n",
      "PD = \n",
      " [[ 5.77350269e-01  2.56395025e-16  1.34530811e+00]\n",
      " [-5.77350269e-01  1.41421356e+00 -1.47428338e+00]\n",
      " [ 5.77350269e-01 -1.41421356e+00  1.28975270e-01]]\n",
      "A = \n",
      " [[ 1  3  3]\n",
      " [-3 -5 -3]\n",
      " [ 3  3  1]]\n",
      "PDP-1 = \n",
      " [[ 1.  3.  3.]\n",
      " [-3. -5. -3.]\n",
      " [ 3.  3.  1.]]\n"
     ]
    }
   ],
   "source": [
    "# diagnoalize\n",
    "A = np.array([[1, 3, 3], [-3, -5, -3], [3, 3, 1]])\n",
    "w, v = LA.eig(A)\n",
    "print(A)\n",
    "for i in range(w.size):\n",
    "    print(f'Eigenvalue {i} = {w[i]}, eigenvector = {v[:,i]}')\n",
    "\n",
    "print('AP = \\n', A @ v)\n",
    "print('PD = \\n', v @ np.diag(w))\n",
    "\n",
    "print('A = \\n', A)\n",
    "print('PDP-1 = \\n',  v @ np.diag(w) @ LA.inv(v))"
   ]
  },
  {
   "cell_type": "code",
   "execution_count": 22,
   "metadata": {},
   "outputs": [
    {
     "name": "stdout",
     "output_type": "stream",
     "text": [
      "D = \n",
      " [[1 2 3]\n",
      " [2 3 4]\n",
      " [3 4 5]]\n",
      "Eigenvalue 0 = 9.62, eigenvector = [-0.38508979 -0.55951021 -0.73393063]\n",
      "Eigenvalue 1 = -0.62, eigenvector = [-0.82767094 -0.14241368  0.54284358]\n",
      "Eigenvalue 2 = 0.00, eigenvector = [ 0.40824829 -0.81649658  0.40824829]\n",
      "Q-1 = \n",
      " [[-0.38508979 -0.55951021 -0.73393063]\n",
      " [-0.82767094 -0.14241368  0.54284358]\n",
      " [ 0.40824829 -0.81649658  0.40824829]]\n",
      "QT  = \n",
      " [[-0.38508979 -0.55951021 -0.73393063]\n",
      " [-0.82767094 -0.14241368  0.54284358]\n",
      " [ 0.40824829 -0.81649658  0.40824829]]\n"
     ]
    }
   ],
   "source": [
    "# symmetric matrix\n",
    "D = np.array([[1, 2, 3], [2, 3, 4], [3, 4, 5]])\n",
    "w, v = LA.eig(D)\n",
    "print('D = \\n', D)\n",
    "for i in range(w.size):\n",
    "    print(f'Eigenvalue {i} = {w[i]:.2f}, eigenvector = {v[:,i]}')\n",
    "\n",
    "print('Q-1 = \\n', LA.inv(v))\n",
    "print('QT  = \\n', v.T)"
   ]
  },
  {
   "cell_type": "code",
   "execution_count": null,
   "metadata": {},
   "outputs": [],
   "source": []
  }
 ],
 "metadata": {
  "kernelspec": {
   "display_name": "Python 3",
   "language": "python",
   "name": "python3"
  },
  "language_info": {
   "codemirror_mode": {
    "name": "ipython",
    "version": 3
   },
   "file_extension": ".py",
   "mimetype": "text/x-python",
   "name": "python",
   "nbconvert_exporter": "python",
   "pygments_lexer": "ipython3",
   "version": "3.7.3"
  }
 },
 "nbformat": 4,
 "nbformat_minor": 4
}
