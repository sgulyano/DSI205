{
 "cells": [
  {
   "cell_type": "markdown",
   "metadata": {},
   "source": [
    "# Eigenvalues and Eigenvectors\n",
    "\n",
    "ใช้ฟังก์ชัน `numpy.linalg.eig` (https://numpy.org/doc/stable/reference/generated/numpy.linalg.eig.html)"
   ]
  },
  {
   "cell_type": "code",
   "execution_count": 1,
   "metadata": {},
   "outputs": [
    {
     "name": "stdout",
     "output_type": "stream",
     "text": [
      "[[ 4  2  2]\n",
      " [-1  1 -1]\n",
      " [ 6  6  8]]\n",
      "Eigenvalue 0 = 9.00, eigenvector = [-0.31234752  0.15617376 -0.93704257]\n",
      "Eigenvalue 1 = 2.00, eigenvector = [-0.63500064 -0.12700013  0.76200076]\n",
      "Eigenvalue 2 = 2.00, eigenvector = [-0.41580471  0.81644967 -0.40064496]\n"
     ]
    }
   ],
   "source": [
    "import numpy as np\n",
    "from numpy import linalg as LA\n",
    "\n",
    "# eigenvalues and eigenvectors\n",
    "A = np.array([[4, 2, 2],\n",
    "              [-1, 1, -1],\n",
    "              [6, 6, 8]])\n",
    "w, v = LA.eig(A)\n",
    "print(A)\n",
    "for i in range(w.size):\n",
    "    print(f'Eigenvalue {i} = {w[i]:.2f}, eigenvector = {v[:,i]}')"
   ]
  },
  {
   "cell_type": "markdown",
   "metadata": {},
   "source": [
    "## Trace \n",
    "\n",
    "$tr(A) = \\sum_i A_{i,i}$\n",
    "\n",
    "https://en.wikipedia.org/wiki/Trace_(linear_algebra)"
   ]
  },
  {
   "cell_type": "code",
   "execution_count": 2,
   "metadata": {},
   "outputs": [
    {
     "data": {
      "text/plain": [
       "13"
      ]
     },
     "execution_count": 2,
     "metadata": {},
     "output_type": "execute_result"
    }
   ],
   "source": [
    "np.trace(A)"
   ]
  },
  {
   "cell_type": "code",
   "execution_count": 3,
   "metadata": {},
   "outputs": [
    {
     "data": {
      "text/plain": [
       "13.0"
      ]
     },
     "execution_count": 3,
     "metadata": {},
     "output_type": "execute_result"
    }
   ],
   "source": [
    "np.round(w.sum(),2)"
   ]
  },
  {
   "cell_type": "markdown",
   "metadata": {},
   "source": [
    "## Determinant and Eigenvalues\n",
    "\n",
    "The product of all eigenvalues of $A$ is the same as the determinant of $A$."
   ]
  },
  {
   "cell_type": "code",
   "execution_count": 4,
   "metadata": {},
   "outputs": [
    {
     "data": {
      "text/plain": [
       "36.0"
      ]
     },
     "execution_count": 4,
     "metadata": {},
     "output_type": "execute_result"
    }
   ],
   "source": [
    "LA.det(A)"
   ]
  },
  {
   "cell_type": "code",
   "execution_count": 5,
   "metadata": {},
   "outputs": [
    {
     "data": {
      "text/plain": [
       "36.0"
      ]
     },
     "execution_count": 5,
     "metadata": {},
     "output_type": "execute_result"
    }
   ],
   "source": [
    "np.round(np.prod(w), 2)"
   ]
  },
  {
   "cell_type": "markdown",
   "metadata": {},
   "source": [
    "## Eigenvalues of Triangular matrix\n",
    "\n",
    "Eigenvalues of triangular matrix are the diagonal entries."
   ]
  },
  {
   "cell_type": "code",
   "execution_count": 6,
   "metadata": {},
   "outputs": [
    {
     "name": "stdout",
     "output_type": "stream",
     "text": [
      "[[ 3  6 -8]\n",
      " [ 0  0  6]\n",
      " [ 0  0  2]]\n",
      "Eigenvalue 0 = 3.0, eigenvector = [1. 0. 0.]\n",
      "Eigenvalue 1 = 0.0, eigenvector = [-0.89442719  0.4472136   0.        ]\n",
      "Eigenvalue 2 = 2.0, eigenvector = [-0.95346259  0.28603878  0.09534626]\n"
     ]
    }
   ],
   "source": [
    "A = np.array([[3, 6, -8], \n",
    "              [0, 0, 6], \n",
    "              [0, 0, 2]])\n",
    "w, v = LA.eig(A)\n",
    "print(A)\n",
    "for i in range(w.size):\n",
    "    print(f'Eigenvalue {i} = {w[i]}, eigenvector = {v[:,i]}')"
   ]
  },
  {
   "cell_type": "code",
   "execution_count": 7,
   "metadata": {},
   "outputs": [
    {
     "name": "stdout",
     "output_type": "stream",
     "text": [
      "[[ 4  0  0]\n",
      " [-2  1  0]\n",
      " [ 5  3  4]]\n",
      "Eigenvalue 0 = 4.0, eigenvector = [0. 0. 1.]\n",
      "Eigenvalue 1 = 1.0, eigenvector = [ 0.          0.70710678 -0.70710678]\n",
      "Eigenvalue 2 = 4.0, eigenvector = [ 2.96059473e-16 -1.97372982e-16 -1.00000000e+00]\n"
     ]
    }
   ],
   "source": [
    "B = np.array([[4, 0, 0], \n",
    "              [-2, 1, 0], \n",
    "              [5, 3, 4]])\n",
    "w, v = LA.eig(B)\n",
    "print(B)\n",
    "for i in range(w.size):\n",
    "    print(f'Eigenvalue {i} = {w[i]}, eigenvector = {v[:,i]}')"
   ]
  },
  {
   "cell_type": "markdown",
   "metadata": {},
   "source": [
    "## The Characteristic Equation\n",
    "\n",
    "$$\\det(A - \\lambda I) = 0$$"
   ]
  },
  {
   "cell_type": "code",
   "execution_count": 8,
   "metadata": {},
   "outputs": [
    {
     "name": "stdout",
     "output_type": "stream",
     "text": [
      "det(B - λ I) =  0.0\n"
     ]
    }
   ],
   "source": [
    "# det(A- lambda I) = 0\n",
    "print('det(B - \\u03BB I) = ', np.linalg.det(B - w[0]*np.eye(3)))"
   ]
  },
  {
   "cell_type": "markdown",
   "metadata": {},
   "source": [
    "## Diagonalization\n",
    "\n",
    "The eigenvalue–eigenvector can be displayed in a factorization of the form  $A = P D P^{-1}$  where $D$ is a diagonal matrix."
   ]
  },
  {
   "cell_type": "code",
   "execution_count": 9,
   "metadata": {},
   "outputs": [
    {
     "name": "stdout",
     "output_type": "stream",
     "text": [
      "[[ 1  3  3]\n",
      " [-3 -5 -3]\n",
      " [ 3  3  1]]\n",
      "Eigenvalue 0 = 1.0000000000000004, eigenvector = [ 0.57735027 -0.57735027  0.57735027]\n",
      "Eigenvalue 1 = -2.0, eigenvector = [-6.40987562e-17 -7.07106781e-01  7.07106781e-01]\n",
      "Eigenvalue 2 = -1.9999999999999996, eigenvector = [-0.71108247  0.70306288  0.00801959]\n",
      "AP = \n",
      " [[ 5.77350269e-01  8.88178420e-16  1.42216494e+00]\n",
      " [-5.77350269e-01  1.41421356e+00 -1.40612575e+00]\n",
      " [ 5.77350269e-01 -1.41421356e+00 -1.60391817e-02]]\n",
      "PD = \n",
      " [[ 5.77350269e-01  1.28197512e-16  1.42216494e+00]\n",
      " [-5.77350269e-01  1.41421356e+00 -1.40612575e+00]\n",
      " [ 5.77350269e-01 -1.41421356e+00 -1.60391817e-02]]\n",
      "A = \n",
      " [[ 1  3  3]\n",
      " [-3 -5 -3]\n",
      " [ 3  3  1]]\n",
      "PDP-1 = \n",
      " [[ 1.  3.  3.]\n",
      " [-3. -5. -3.]\n",
      " [ 3.  3.  1.]]\n"
     ]
    }
   ],
   "source": [
    "# diagnoalize\n",
    "A = np.array([[1, 3, 3], [-3, -5, -3], [3, 3, 1]])\n",
    "w, v = LA.eig(A)\n",
    "print(A)\n",
    "for i in range(w.size):\n",
    "    print(f'Eigenvalue {i} = {w[i]}, eigenvector = {v[:,i]}')\n",
    "\n",
    "print('AP = \\n', A @ v)\n",
    "print('PD = \\n', v @ np.diag(w))\n",
    "\n",
    "print('A = \\n', A)\n",
    "print('PDP-1 = \\n',  v @ np.diag(w) @ LA.inv(v))"
   ]
  },
  {
   "cell_type": "markdown",
   "metadata": {},
   "source": [
    "## Symmetric matrix\n",
    "\n",
    "Key properties of symmetric matrix:\n",
    "1. A symmetric matrix has only real eigenvalues.\n",
    "2. The eigenvectors can be chosen orthonormal.\n"
   ]
  },
  {
   "cell_type": "code",
   "execution_count": 10,
   "metadata": {},
   "outputs": [
    {
     "name": "stdout",
     "output_type": "stream",
     "text": [
      "D = \n",
      " [[1 2 3]\n",
      " [2 3 4]\n",
      " [3 4 5]]\n",
      "Eigenvalue 0 = 9.62, eigenvector = [-0.38508979 -0.55951021 -0.73393063]\n",
      "Eigenvalue 1 = -0.62, eigenvector = [-0.82767094 -0.14241368  0.54284358]\n",
      "Eigenvalue 2 = 0.00, eigenvector = [ 0.40824829 -0.81649658  0.40824829]\n",
      "Q-1 = \n",
      " [[-0.38508979 -0.55951021 -0.73393063]\n",
      " [-0.82767094 -0.14241368  0.54284358]\n",
      " [ 0.40824829 -0.81649658  0.40824829]]\n",
      "QT  = \n",
      " [[-0.38508979 -0.55951021 -0.73393063]\n",
      " [-0.82767094 -0.14241368  0.54284358]\n",
      " [ 0.40824829 -0.81649658  0.40824829]]\n"
     ]
    }
   ],
   "source": [
    "# symmetric matrix\n",
    "D = np.array([[1, 2, 3], [2, 3, 4], [3, 4, 5]])\n",
    "w, v = LA.eig(D)\n",
    "print('D = \\n', D)\n",
    "for i in range(w.size):\n",
    "    print(f'Eigenvalue {i} = {w[i]:.2f}, eigenvector = {v[:,i]}')\n",
    "\n",
    "print('Q-1 = \\n', LA.inv(v))\n",
    "print('QT  = \\n', v.T)"
   ]
  }
 ],
 "metadata": {
  "kernelspec": {
   "display_name": "Python 3 (ipykernel)",
   "language": "python",
   "name": "python3"
  },
  "language_info": {
   "codemirror_mode": {
    "name": "ipython",
    "version": 3
   },
   "file_extension": ".py",
   "mimetype": "text/x-python",
   "name": "python",
   "nbconvert_exporter": "python",
   "pygments_lexer": "ipython3",
   "version": "3.9.1"
  }
 },
 "nbformat": 4,
 "nbformat_minor": 4
}
