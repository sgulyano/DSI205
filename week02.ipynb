{
 "cells": [
  {
   "cell_type": "markdown",
   "metadata": {},
   "source": [
    "# Gaussian Elimination\n",
    "\n",
    "ฟังก์ชัน `gauss` สำหรับทำ Gaussian Elimination แบ่งออกเป็น 2 ส่วน คือ\n",
    "* แปลง Augmented Matrix `A` ให้อยู่ใน Echelon form\n",
    "* ทำ Back substitution เพื่อหาคำตอบของระบบสมการ\n",
    "\n",
    "โค้ดนี้ใช้ได้เฉพาะเมื่อมีจำนวนตัวแปรเท่ากับจำนวนสมการ\n",
    "\n",
    "โค้ดจาก https://gist.github.com/j9ac9k/6b5cd12aa9d2e5aa861f942b786293b4"
   ]
  },
  {
   "cell_type": "code",
   "execution_count": 1,
   "metadata": {},
   "outputs": [],
   "source": [
    "def gauss(A):\n",
    "    n = len(A)\n",
    "\n",
    "    # Create Echelon form\n",
    "    for i in range(n):\n",
    "        # In each column, search for the maximum\n",
    "        maxEl = abs(A[i][i])\n",
    "        maxRow = i\n",
    "        # Search only the rows below the diagonal entry.\n",
    "        for k in range(i+1, n):\n",
    "            if abs(A[k][i]) > maxEl:\n",
    "                maxEl = abs(A[k][i])\n",
    "                maxRow = k\n",
    "        \n",
    "        # Swap maximum row with current row (column by column)\n",
    "        tmp = A[maxRow]\n",
    "        A[maxRow] = A[i]\n",
    "        A[i] = tmp\n",
    "\n",
    "        # Make all rows below this one 0 in current column\n",
    "        for k in range(i+1, n):\n",
    "            c = -A[k][i]/A[i][i]\n",
    "            for j in range(i, n+1):\n",
    "                if i == j:\n",
    "                    A[k][j] = 0\n",
    "                else:\n",
    "                    A[k][j] += c * A[i][j]\n",
    "                    \n",
    "    # Back substitution\n",
    "    x = [0 for i in range(n)]\n",
    "    # Start from the last row to the first row\n",
    "    for i in range(n-1, -1, -1):\n",
    "        # Check whether the system has exactly one solution\n",
    "        if A[i][i] == 0:\n",
    "            print('No unique solution')\n",
    "            # Check whether it is a free variable.\n",
    "            if A[i][i+1] == 0:\n",
    "                return 'Multiple solutions'\n",
    "            else:\n",
    "                return 'No solution'\n",
    "        # Update above rows after substituting the value\n",
    "        x[i] = A[i][n]/A[i][i]\n",
    "        for k in range(i-1, -1, -1):\n",
    "            A[k][n] -= A[k][i] * x[i]\n",
    "    return x"
   ]
  },
  {
   "cell_type": "markdown",
   "metadata": {},
   "source": [
    "ฟังก์ชัน `pprint` สำหรับแสดงผลแมทริกซ์"
   ]
  },
  {
   "cell_type": "code",
   "execution_count": 2,
   "metadata": {},
   "outputs": [],
   "source": [
    "def pprint(A):\n",
    "    n = len(A)\n",
    "    for i in A:\n",
    "        # * to unpack iterables into a list/tuple\n",
    "        line = ('{}\\t'*n + '| {}').format(*i)\n",
    "        print(line)\n",
    "    print(\"\")"
   ]
  },
  {
   "cell_type": "markdown",
   "metadata": {},
   "source": [
    "### ตัวอย่างที่ 1 \n",
    "ระบบสมการ เป็น\n",
    "$$3x + 2y = 11 \\\\ x - 2y = 1$$"
   ]
  },
  {
   "cell_type": "code",
   "execution_count": 3,
   "metadata": {},
   "outputs": [
    {
     "name": "stdout",
     "output_type": "stream",
     "text": [
      "3\t2\t| 11\n",
      "1\t-2\t| 1\n",
      "\n",
      "Result: [3.0, 1.0]\n"
     ]
    }
   ],
   "source": [
    "A = [[3, 2, 11], \n",
    "     [1, -2, 1]]\n",
    "n = len(A)\n",
    "pprint(A)\n",
    "x = gauss(A)\n",
    "print('Result:', x)"
   ]
  },
  {
   "cell_type": "markdown",
   "metadata": {},
   "source": [
    "### ตัวอย่างที่ 2 \n",
    "ระบบสมการ เป็น\n",
    "$$\\begin{aligned}x + y - z = 9 \\\\ y + 3z = 3 \\\\ -x - 2z = 2\\end{aligned}$$"
   ]
  },
  {
   "cell_type": "code",
   "execution_count": 4,
   "metadata": {},
   "outputs": [
    {
     "name": "stdout",
     "output_type": "stream",
     "text": [
      "1\t1\t-1\t| 9\n",
      "0\t1\t3\t| 3\n",
      "-1\t0\t-2\t| 2\n",
      "\n",
      "Result: [0.666666666666667, 7.0, -1.3333333333333333]\n"
     ]
    }
   ],
   "source": [
    "A = [[1, 1, -1, 9], [0, 1, 3, 3], [-1, 0, -2, 2]]\n",
    "n = len(A)\n",
    "pprint(A)\n",
    "x = gauss(A)\n",
    "print('Result:', x)"
   ]
  },
  {
   "cell_type": "markdown",
   "metadata": {},
   "source": [
    "### ตัวอย่างที่ 3 \n",
    "\n",
    "ระบบสมการ เป็น\n",
    "$$\\begin{aligned}y - 4z = 8 \\\\ 2x - 3y + 2z = 1 \\\\ 4x - 8y + 12z = 1\\end{aligned}$$"
   ]
  },
  {
   "cell_type": "code",
   "execution_count": 5,
   "metadata": {},
   "outputs": [
    {
     "name": "stdout",
     "output_type": "stream",
     "text": [
      "0\t1\t-4\t| 8\n",
      "2\t-3\t2\t| 1\n",
      "4\t-8\t12\t| 1\n",
      "\n",
      "No unique solution\n",
      "Result: No solution\n"
     ]
    }
   ],
   "source": [
    "A = [[0, 1, -4, 8], [2, -3, 2, 1], [4, -8, 12, 1]]\n",
    "n = len(A)\n",
    "pprint(A)\n",
    "x = gauss(A)\n",
    "print('Result:', x)"
   ]
  },
  {
   "cell_type": "markdown",
   "metadata": {},
   "source": [
    "### ตัวอย่างที่ 4 \n",
    "\n",
    "ระบบสมการ เป็น\n",
    "$$\\begin{aligned}x + 3y + z = 9 \\\\ x + y - z = 1 \\\\ 3x + 11y + 5z = 35\\end{aligned}$$"
   ]
  },
  {
   "cell_type": "code",
   "execution_count": 6,
   "metadata": {},
   "outputs": [
    {
     "name": "stdout",
     "output_type": "stream",
     "text": [
      "1\t3\t1\t| 9\n",
      "1\t1\t-1\t| 1\n",
      "3\t11\t5\t| 35\n",
      "\n",
      "No unique solution\n",
      "Result: Multiple solutions\n"
     ]
    }
   ],
   "source": [
    "A = [[1, 3, 1, 9], \n",
    "     [1, 1, -1, 1], \n",
    "     [3, 11, 5, 35]]\n",
    "n = len(A)\n",
    "pprint(A)\n",
    "x = gauss(A)\n",
    "print('Result:', x)"
   ]
  }
 ],
 "metadata": {
  "kernelspec": {
   "display_name": "Python 3 (ipykernel)",
   "language": "python",
   "name": "python3"
  },
  "language_info": {
   "codemirror_mode": {
    "name": "ipython",
    "version": 3
   },
   "file_extension": ".py",
   "mimetype": "text/x-python",
   "name": "python",
   "nbconvert_exporter": "python",
   "pygments_lexer": "ipython3",
   "version": "3.9.1"
  }
 },
 "nbformat": 4,
 "nbformat_minor": 4
}
