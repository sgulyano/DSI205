{
 "cells": [
  {
   "cell_type": "code",
   "execution_count": null,
   "metadata": {},
   "outputs": [],
   "source": [
    "def pprint(A):\n",
    "    n = len(A)\n",
    "    for i in A:\n",
    "        # * to unpack iterables into a list/tuple\n",
    "        line = ('{}\\t'*n + '| {}').format(*i)\n",
    "        print(line)\n",
    "    print(\"\")\n",
    "\n",
    "def gauss(A):\n",
    "    n = len(A)\n",
    "\n",
    "    for i in range(n):\n",
    "        # Search for maximum in this column\n",
    "        maxEl = abs(A[i][i])\n",
    "        maxRow = i\n",
    "        for k in range(i+1, n):\n",
    "            if abs(A[k][i]) > maxEl:\n",
    "                maxEl = abs(A[k][i])\n",
    "                maxRow = k\n",
    "        \n",
    "        # Swap maximum row with current row (column by column)\n",
    "        tmp = A[maxRow]\n",
    "        A[maxRow] = A[i]\n",
    "        A[i] = tmp\n",
    "\n",
    "        # Make all rows below this one 0 in current column\n",
    "        for k in range(i+1, n):\n",
    "            c = -A[k][i]/A[i][i]\n",
    "            for j in range(i, n+1):\n",
    "                if i == j:\n",
    "                    A[k][j] = 0\n",
    "                else:\n",
    "                    A[k][j] += c * A[i][j]\n",
    "\n",
    "    # Back substitution\n",
    "    x = [0 for i in range(n)]\n",
    "    for i in range(n-1, -1, -1):\n",
    "        if A[i][i] == 0:\n",
    "            print('No unique solution')\n",
    "            if A[i][i+1] == 0:\n",
    "                return 'Multiple solutions'\n",
    "            else:\n",
    "                return 'No solution'\n",
    "#             return None\n",
    "        x[i] = A[i][n]/A[i][i]\n",
    "        for k in range(i-1, -1, -1):\n",
    "            A[k][n] -= A[k][i] * x[i]\n",
    "    return x"
   ]
  },
  {
   "cell_type": "code",
   "execution_count": null,
   "metadata": {},
   "outputs": [],
   "source": [
    "A = [[3, 2, 11], \n",
    "     [1, -2, 1]]\n",
    "n = len(A)\n",
    "pprint(A)\n",
    "x = gauss(A)\n",
    "print('Result:', x)"
   ]
  },
  {
   "cell_type": "code",
   "execution_count": null,
   "metadata": {},
   "outputs": [],
   "source": [
    "A = [[1, 1, -1, 9], [0, 1, 3, 3], [-1, 0, -2, 2]]\n",
    "n = len(A)\n",
    "pprint(A)\n",
    "x = gauss(A)\n",
    "print('Result:', x)"
   ]
  },
  {
   "cell_type": "code",
   "execution_count": null,
   "metadata": {},
   "outputs": [],
   "source": [
    "A = [[0, 1, -4, 8], [2, -3, 2, 1], [4, -8, 12, 1]]\n",
    "n = len(A)\n",
    "pprint(A)\n",
    "x = gauss(A)\n",
    "print('Result:', x)"
   ]
  },
  {
   "cell_type": "code",
   "execution_count": null,
   "metadata": {},
   "outputs": [],
   "source": [
    "A = [[1, 3, 1, 9], \n",
    "     [1, 1, -1, 1], \n",
    "     [3, 11, 5, 35]]\n",
    "n = len(A)\n",
    "pprint(A)\n",
    "x = gauss(A)\n",
    "print('Result:', x)"
   ]
  }
 ],
 "metadata": {
  "kernelspec": {
   "display_name": "Python 3",
   "language": "python",
   "name": "python3"
  },
  "language_info": {
   "codemirror_mode": {
    "name": "ipython",
    "version": 3
   },
   "file_extension": ".py",
   "mimetype": "text/x-python",
   "name": "python",
   "nbconvert_exporter": "python",
   "pygments_lexer": "ipython3",
   "version": "3.7.3"
  }
 },
 "nbformat": 4,
 "nbformat_minor": 4
}
