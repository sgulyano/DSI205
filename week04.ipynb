{
 "cells": [
  {
   "cell_type": "markdown",
   "metadata": {},
   "source": [
    "การบวก Matrix ใน Python"
   ]
  },
  {
   "cell_type": "code",
   "execution_count": null,
   "metadata": {},
   "outputs": [],
   "source": [
    "A = [[4, 0, 5], \n",
    "     [-1, 3, 2]]\n",
    "B = [[1, 1, 1],\n",
    "     [3, 5, 7]]\n",
    "print(A+B)\n",
    "C = [[A[i][j] + B[i][j] for j in range(len(A[0]))] for i in range(len(A))]\n",
    "for c in C:\n",
    "    print(c)"
   ]
  },
  {
   "cell_type": "code",
   "execution_count": null,
   "metadata": {},
   "outputs": [],
   "source": [
    "import numpy as np\n",
    "a = np.array(A)\n",
    "b = np.array(B)\n",
    "print(a+b)"
   ]
  },
  {
   "cell_type": "markdown",
   "metadata": {},
   "source": [
    "การคูณ Matrix ใน Python"
   ]
  },
  {
   "cell_type": "code",
   "execution_count": null,
   "metadata": {},
   "outputs": [],
   "source": [
    "A = [[-1, 0], \n",
    "     [2, 3]]\n",
    "B = [[1, 2],\n",
    "     [3, 0]]\n",
    "a = np.array(A)\n",
    "b = np.array(B)\n",
    "print(np.matmul(a, b))\n",
    "print(np.matmul(b, a))"
   ]
  },
  {
   "cell_type": "code",
   "execution_count": null,
   "metadata": {},
   "outputs": [],
   "source": [
    "A = [[1, 2], \n",
    "    [2, 3]]\n",
    "B = [[2, 4],\n",
    "    [4, 6]]\n",
    "a = np.array(A)\n",
    "b = np.array(B)\n",
    "print(np.matmul(a, b))\n",
    "print(np.matmul(b, a))"
   ]
  },
  {
   "cell_type": "markdown",
   "metadata": {},
   "source": [
    "การหา Inverse ใน Python โดยใช้ Gauss-Jordan Method"
   ]
  },
  {
   "cell_type": "code",
   "execution_count": null,
   "metadata": {},
   "outputs": [],
   "source": [
    "#%% 3\n",
    "import numpy as np\n",
    "a = np.array([[0, 1, 2], \n",
    "              [1, 0, 3], \n",
    "              [4, -3, 8]])\n",
    "b = np.eye(a.shape[0])\n",
    "print(a)\n",
    "ainv = np.linalg.solve(a, b)\n",
    "print(ainv)\n",
    "print(np.matmul(ainv, a))\n",
    "print(np.matmul(a, ainv))"
   ]
  },
  {
   "cell_type": "code",
   "execution_count": null,
   "metadata": {},
   "outputs": [],
   "source": [
    "0.1+0.2"
   ]
  }
 ],
 "metadata": {
  "kernelspec": {
   "display_name": "Python 3",
   "language": "python",
   "name": "python3"
  },
  "language_info": {
   "codemirror_mode": {
    "name": "ipython",
    "version": 3
   },
   "file_extension": ".py",
   "mimetype": "text/x-python",
   "name": "python",
   "nbconvert_exporter": "python",
   "pygments_lexer": "ipython3",
   "version": "3.7.3"
  }
 },
 "nbformat": 4,
 "nbformat_minor": 4
}
