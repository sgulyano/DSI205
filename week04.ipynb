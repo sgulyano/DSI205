{
 "cells": [
  {
   "cell_type": "markdown",
   "metadata": {},
   "source": [
    "# Matrix Algebra\n",
    "\n",
    "* การบวก Matrix ใน Python\n",
    "* การคูณ Matrix ใน Python\n",
    "* การหา Inverse ใน Python โดยใช้ Gauss-Jordan Method\n"
   ]
  },
  {
   "cell_type": "markdown",
   "metadata": {},
   "source": [
    "## การบวก Matrix ใน Python"
   ]
  },
  {
   "cell_type": "markdown",
   "metadata": {},
   "source": [
    "โดยไม่ใช้ `NumPy`"
   ]
  },
  {
   "cell_type": "code",
   "execution_count": 1,
   "metadata": {},
   "outputs": [
    {
     "name": "stdout",
     "output_type": "stream",
     "text": [
      "[[4, 2, 5], [-1, 3, 2], [1, 1, 1], [3, 5, 7]]\n"
     ]
    }
   ],
   "source": [
    "A = [[4, 2, 5], \n",
    "     [-1, 3, 2]]\n",
    "B = [[1, 1, 1],\n",
    "     [3, 5, 7]]\n",
    "print(A+B)\n"
   ]
  },
  {
   "cell_type": "markdown",
   "metadata": {},
   "source": [
    "ไม่สามารถใช้เครื่องหมาย `+` กันตรง ๆ ได้ เนื่องจาก `list` มองเครื่องหมายบวกเป็นการรวมสมาชิกของทั้งสองลิสเข้าด้วยกัน"
   ]
  },
  {
   "cell_type": "code",
   "execution_count": 2,
   "metadata": {},
   "outputs": [
    {
     "name": "stdout",
     "output_type": "stream",
     "text": [
      "[5, 3, 6]\n",
      "[2, 8, 9]\n"
     ]
    }
   ],
   "source": [
    "C = [[A[i][j] + B[i][j] for j in range(len(A[0]))] for i in range(len(A))]\n",
    "for c in C:\n",
    "    print(c)"
   ]
  },
  {
   "cell_type": "markdown",
   "metadata": {},
   "source": [
    "โดยใช้ `NumPy`"
   ]
  },
  {
   "cell_type": "code",
   "execution_count": 3,
   "metadata": {},
   "outputs": [
    {
     "name": "stdout",
     "output_type": "stream",
     "text": [
      "[[5 3 6]\n",
      " [2 8 9]]\n"
     ]
    }
   ],
   "source": [
    "import numpy as np\n",
    "a = np.array(A)\n",
    "b = np.array(B)\n",
    "print(a+b)"
   ]
  },
  {
   "cell_type": "markdown",
   "metadata": {},
   "source": [
    "`NumPy array` มีคุณสมบัติในการ [broadcasting](https://numpy.org/doc/stable/user/basics.broadcasting.html) จึงสามารถใช้เครื่องหมายบวกได้เลย"
   ]
  },
  {
   "cell_type": "code",
   "execution_count": 4,
   "metadata": {},
   "outputs": [
    {
     "name": "stdout",
     "output_type": "stream",
     "text": [
      "A = \n",
      " [[ 4  2  5]\n",
      " [-1  3  2]]\n"
     ]
    }
   ],
   "source": [
    "print('A = \\n', a)"
   ]
  },
  {
   "cell_type": "code",
   "execution_count": 5,
   "metadata": {},
   "outputs": [
    {
     "name": "stdout",
     "output_type": "stream",
     "text": [
      "B = \n",
      " [1 2 3]\n"
     ]
    }
   ],
   "source": [
    "b = np.array([1, 2, 3])\n",
    "print('B = \\n', b)"
   ]
  },
  {
   "cell_type": "code",
   "execution_count": 6,
   "metadata": {},
   "outputs": [
    {
     "name": "stdout",
     "output_type": "stream",
     "text": [
      "A + B = \n",
      " [[5 4 8]\n",
      " [0 5 5]]\n"
     ]
    }
   ],
   "source": [
    "print('A + B = \\n', a+b)"
   ]
  },
  {
   "cell_type": "markdown",
   "metadata": {},
   "source": [
    "## การคูณ Matrix ใน Python\n",
    "\n",
    "โดยใช้ฟังก์ชัน [np.matmul](https://numpy.org/doc/stable/reference/generated/numpy.matmul.html) ของ `NumPy`"
   ]
  },
  {
   "cell_type": "code",
   "execution_count": 7,
   "metadata": {},
   "outputs": [
    {
     "name": "stdout",
     "output_type": "stream",
     "text": [
      "AB = \n",
      " [[-1 -2]\n",
      " [11  4]]\n",
      "BA = \n",
      " [[ 3  6]\n",
      " [-3  0]]\n"
     ]
    }
   ],
   "source": [
    "A = [[-1, 0], \n",
    "     [2, 3]]\n",
    "B = [[1, 2],\n",
    "     [3, 0]]\n",
    "a = np.array(A)\n",
    "b = np.array(B)\n",
    "print('AB = \\n', np.matmul(a, b))\n",
    "print('BA = \\n', np.matmul(b, a))"
   ]
  },
  {
   "cell_type": "markdown",
   "metadata": {},
   "source": [
    "Matrix Multiplication ไม่การันตีคุณสมบัติการสลับที่"
   ]
  },
  {
   "cell_type": "code",
   "execution_count": 8,
   "metadata": {},
   "outputs": [
    {
     "name": "stdout",
     "output_type": "stream",
     "text": [
      "AB = \n",
      " [[10 16]\n",
      " [16 26]]\n",
      "BA = \n",
      " [[10 16]\n",
      " [16 26]]\n"
     ]
    }
   ],
   "source": [
    "A = [[1, 2], \n",
    "    [2, 3]]\n",
    "B = [[2, 4],\n",
    "    [4, 6]]\n",
    "a = np.array(A)\n",
    "b = np.array(B)\n",
    "print('AB = \\n', np.matmul(a, b))\n",
    "print('BA = \\n', np.matmul(b, a))"
   ]
  },
  {
   "cell_type": "markdown",
   "metadata": {},
   "source": [
    "## การหา Inverse ใน Python โดยใช้หลักการเดียวกันกับ Gauss-Jordan Method\n",
    "\n",
    "ใน Gauss-Jordan Method เรา augment แมทริกซ์ด้วย identity matrix เพื่อหา solution ที่ทำให้ระบบสมการเป็นจริง ซึ่งในที่นี้ solution ก็คือ inverse (จากนิยาม $AA^{-1} = I$) ในโค้ดนี้ผมจึงใช้คำสั่ง [`np.linalg.solve`](https://numpy.org/doc/stable/reference/generated/numpy.linalg.solve.html) ในการแก้ระบบสมการ และผลลัพธ์ที่ได้จึงเป็น inverse"
   ]
  },
  {
   "cell_type": "code",
   "execution_count": 9,
   "metadata": {},
   "outputs": [
    {
     "name": "stdout",
     "output_type": "stream",
     "text": [
      "A = \n",
      " [[ 0  1  2]\n",
      " [ 1  0  3]\n",
      " [ 4 -3  8]]\n",
      "A-1 = \n",
      " [[-4.5  7.  -1.5]\n",
      " [-2.   4.  -1. ]\n",
      " [ 1.5 -2.   0.5]]\n",
      "A-1 A = \n",
      " [[1. 0. 0.]\n",
      " [0. 1. 0.]\n",
      " [0. 0. 1.]]\n",
      "A A-1 = \n",
      " [[1. 0. 0.]\n",
      " [0. 1. 0.]\n",
      " [0. 0. 1.]]\n"
     ]
    }
   ],
   "source": [
    "#%% 3\n",
    "import numpy as np\n",
    "a = np.array([[0, 1, 2], \n",
    "              [1, 0, 3], \n",
    "              [4, -3, 8]])\n",
    "b = np.eye(a.shape[0])\n",
    "print('A = \\n', a)\n",
    "ainv = np.linalg.solve(a, b)\n",
    "print('A-1 = \\n', ainv)\n",
    "print('A-1 A = \\n', np.matmul(ainv, a))\n",
    "print('A A-1 = \\n', np.matmul(a, ainv))"
   ]
  },
  {
   "cell_type": "markdown",
   "metadata": {},
   "source": [
    "ค่า determinant ของแมทริกซ์จะต้อง**ไม่ใช่ศูนย์** จึงจะหา inverse ได้"
   ]
  },
  {
   "cell_type": "code",
   "execution_count": 10,
   "metadata": {},
   "outputs": [
    {
     "data": {
      "text/plain": [
       "-2.0"
      ]
     },
     "execution_count": 10,
     "metadata": {},
     "output_type": "execute_result"
    }
   ],
   "source": [
    "np.linalg.det(a)"
   ]
  },
  {
   "cell_type": "markdown",
   "metadata": {},
   "source": [
    "`Python` อาจมีปัญหาเรื่อง `underflow` ได้ เช่น"
   ]
  },
  {
   "cell_type": "code",
   "execution_count": 11,
   "metadata": {},
   "outputs": [
    {
     "data": {
      "text/plain": [
       "0.30000000000000004"
      ]
     },
     "execution_count": 11,
     "metadata": {},
     "output_type": "execute_result"
    }
   ],
   "source": [
    "0.1+0.2"
   ]
  }
 ],
 "metadata": {
  "kernelspec": {
   "display_name": "Python 3 (ipykernel)",
   "language": "python",
   "name": "python3"
  },
  "language_info": {
   "codemirror_mode": {
    "name": "ipython",
    "version": 3
   },
   "file_extension": ".py",
   "mimetype": "text/x-python",
   "name": "python",
   "nbconvert_exporter": "python",
   "pygments_lexer": "ipython3",
   "version": "3.9.1"
  }
 },
 "nbformat": 4,
 "nbformat_minor": 4
}
