{
 "cells": [
  {
   "cell_type": "markdown",
   "metadata": {},
   "source": [
    "# Determinant"
   ]
  },
  {
   "cell_type": "code",
   "execution_count": 1,
   "metadata": {},
   "outputs": [
    {
     "name": "stdout",
     "output_type": "stream",
     "text": [
      "a = \n",
      "[[1 2]\n",
      " [3 4]]\n",
      "b = \n",
      "[[1 0]\n",
      " [1 2]]\n",
      "det(a) = -2.0\n",
      "det(b) = 2.0\n",
      "det(ab) = -4.0\n",
      "det(a)det(b) = -4.0\n"
     ]
    }
   ],
   "source": [
    "#%% 1\n",
    "import numpy as np\n",
    "import scipy.linalg\n",
    "np.set_printoptions(precision=2)\n",
    "a = np.array([[1, 2], \n",
    "              [3, 4]])\n",
    "b = np.array([[1, 0], \n",
    "              [1, 2]])\n",
    "print(f'a = \\n{a}')\n",
    "print(f'b = \\n{b}')\n",
    "print(f'det(a) = {scipy.linalg.det(a)}')\n",
    "print(f'det(b) = {scipy.linalg.det(b)}')\n",
    "print(f'det(ab) = {scipy.linalg.det(np.matmul(a,b))}')\n",
    "print(f'det(a)det(b) = {scipy.linalg.det(a) * scipy.linalg.det(b)}')"
   ]
  },
  {
   "cell_type": "code",
   "execution_count": 8,
   "metadata": {},
   "outputs": [
    {
     "name": "stdout",
     "output_type": "stream",
     "text": [
      "det(2I) = 4.0\n"
     ]
    }
   ],
   "source": [
    "#%% 2\n",
    "print(f'det(2I) = {np.linalg.det(2*np.eye(2))}')"
   ]
  }
 ],
 "metadata": {
  "kernelspec": {
   "display_name": "Python 3",
   "language": "python",
   "name": "python3"
  },
  "language_info": {
   "codemirror_mode": {
    "name": "ipython",
    "version": 3
   },
   "file_extension": ".py",
   "mimetype": "text/x-python",
   "name": "python",
   "nbconvert_exporter": "python",
   "pygments_lexer": "ipython3",
   "version": "3.7.3"
  }
 },
 "nbformat": 4,
 "nbformat_minor": 4
}
