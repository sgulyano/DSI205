{
 "cells": [
  {
   "cell_type": "code",
   "execution_count": 1,
   "metadata": {},
   "outputs": [
    {
     "name": "stdout",
     "output_type": "stream",
     "text": [
      "a * b = \n",
      " [[4 1]\n",
      " [2 2]]\n",
      "a @ b = \n",
      " [[4 1]\n",
      " [2 2]]\n",
      "c = \n",
      " [[0.25 0.  ]\n",
      " [0.   0.5 ]]\n"
     ]
    }
   ],
   "source": [
    "import numpy as np\n",
    "# matrix multiplication\n",
    "a = np.array([[1, 0], \n",
    "              [0, 1]])\n",
    "b = np.array([[4, 1], \n",
    "              [2, 2]])\n",
    "print('a * b = \\n', np.dot(a, b))\n",
    "print('a @ b = \\n', a @ b)\n",
    "c = a / b\n",
    "print('c = \\n', c)"
   ]
  },
  {
   "cell_type": "code",
   "execution_count": 2,
   "metadata": {},
   "outputs": [
    {
     "name": "stdout",
     "output_type": "stream",
     "text": [
      "d . e =  12\n",
      "d . e =  12\n"
     ]
    }
   ],
   "source": [
    "# dot product\n",
    "d = np.array([1, 2, 3])\n",
    "e = np.array([4, 1, 2])\n",
    "print('d . e = ', np.dot(d, e))\n",
    "print('d . e = ', d @ e)"
   ]
  },
  {
   "cell_type": "code",
   "execution_count": 3,
   "metadata": {},
   "outputs": [
    {
     "name": "stdout",
     "output_type": "stream",
     "text": [
      "p=2, |f| =  5.0\n",
      "p=1, |f| =  7.0\n",
      "p=inf, |f| =  4.0\n",
      "p=2, |b| =  [4.12310563 2.82842712]\n"
     ]
    }
   ],
   "source": [
    "# norm\n",
    "f = np.array([4, 3])\n",
    "print('p=2, |f| = ', np.linalg.norm(f))\n",
    "print('p=1, |f| = ', np.linalg.norm(f, ord=1))\n",
    "print('p=inf, |f| = ', np.linalg.norm(f, ord=np.inf))\n",
    "print('p=2, |b| = ', np.linalg.norm(b, axis=1))"
   ]
  },
  {
   "cell_type": "code",
   "execution_count": 4,
   "metadata": {},
   "outputs": [
    {
     "name": "stdout",
     "output_type": "stream",
     "text": [
      "[0.26726124 0.53452248 0.80178373] , norm of d_hat =  1.0\n"
     ]
    }
   ],
   "source": [
    "# unit vector\n",
    "d_hat = d / (d**2).sum()**0.5\n",
    "print(d_hat, ', norm of d_hat = ', np.linalg.norm(d_hat))"
   ]
  },
  {
   "cell_type": "code",
   "execution_count": 6,
   "metadata": {},
   "outputs": [
    {
     "name": "stdout",
     "output_type": "stream",
     "text": [
      "|d - e| =  3.3166247903554\n"
     ]
    }
   ],
   "source": [
    "# distance\n",
    "from scipy.spatial import distance\n",
    "dst = distance.euclidean(d, e)\n",
    "print('|d - e| = ', dst)"
   ]
  },
  {
   "cell_type": "code",
   "execution_count": 7,
   "metadata": {},
   "outputs": [
    {
     "name": "stdout",
     "output_type": "stream",
     "text": [
      "rank A =  3\n"
     ]
    }
   ],
   "source": [
    "# rank\n",
    "from numpy.linalg import matrix_rank\n",
    "rankA = matrix_rank(np.array([[2, 5, -3, -4, 8], \n",
    "                              [4, 7, -4, -3, 9], \n",
    "                              [6, 9, -5, 2, 4], \n",
    "                              [0, -9, 6, 5, -6]]))\n",
    "print('rank A = ', rankA)"
   ]
  },
  {
   "cell_type": "code",
   "execution_count": 8,
   "metadata": {},
   "outputs": [
    {
     "name": "stdout",
     "output_type": "stream",
     "text": [
      "g x h =  [-3  6 -3]\n",
      "h x g =  [ 3 -6  3]\n",
      "theta = sin-1(|g x h| / |g||h|) =  0.22572612855273394\n",
      "theta = cos-1(|g . h| / |g||h|) =  0.2257261285527342\n"
     ]
    }
   ],
   "source": [
    "# cross product\n",
    "g = [1, 2, 3]\n",
    "h = [4, 5, 6]\n",
    "print('g x h = ', np.cross(g, h))\n",
    "print('h x g = ', np.cross(h, g))\n",
    "gxh_abs = np.linalg.norm(np.cross(g, h))\n",
    "g_abs = np.linalg.norm(g)\n",
    "h_abs = np.linalg.norm(h)\n",
    "theta1 = np.arcsin(gxh_abs / (g_abs * h_abs))\n",
    "print('theta = sin-1(|g x h| / |g||h|) = ', theta1)\n",
    "\n",
    "gdh_abs = np.dot(g, h)\n",
    "theta2 = np.arccos(gdh_abs / (g_abs * h_abs))\n",
    "print('theta = cos-1(|g . h| / |g||h|) = ', theta2)"
   ]
  },
  {
   "cell_type": "code",
   "execution_count": null,
   "metadata": {},
   "outputs": [],
   "source": []
  }
 ],
 "metadata": {
  "kernelspec": {
   "display_name": "Python 3",
   "language": "python",
   "name": "python3"
  },
  "language_info": {
   "codemirror_mode": {
    "name": "ipython",
    "version": 3
   },
   "file_extension": ".py",
   "mimetype": "text/x-python",
   "name": "python",
   "nbconvert_exporter": "python",
   "pygments_lexer": "ipython3",
   "version": "3.7.3"
  }
 },
 "nbformat": 4,
 "nbformat_minor": 4
}
