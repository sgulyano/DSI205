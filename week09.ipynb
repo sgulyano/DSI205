{
 "cells": [
  {
   "cell_type": "markdown",
   "metadata": {},
   "source": [
    "# Dimension"
   ]
  },
  {
   "cell_type": "markdown",
   "metadata": {},
   "source": [
    "## Matrix multiplication"
   ]
  },
  {
   "cell_type": "code",
   "execution_count": 1,
   "metadata": {},
   "outputs": [
    {
     "name": "stdout",
     "output_type": "stream",
     "text": [
      "a * b = \n",
      " [[4 1]\n",
      " [2 2]]\n",
      "a @ b = \n",
      " [[4 1]\n",
      " [2 2]]\n",
      "c = \n",
      " [[0.25 0.  ]\n",
      " [0.   0.5 ]]\n"
     ]
    }
   ],
   "source": [
    "import numpy as np\n",
    "# matrix multiplication\n",
    "a = np.array([[1, 0], \n",
    "              [0, 1]])\n",
    "b = np.array([[4, 1], \n",
    "              [2, 2]])\n",
    "print('a * b = \\n', np.dot(a, b))\n",
    "print('a @ b = \\n', a @ b)\n",
    "c = a / b\n",
    "print('c = \\n', c)"
   ]
  },
  {
   "cell_type": "markdown",
   "metadata": {},
   "source": [
    "## Dot product\n",
    "\n",
    "ใช้ฟังก์ชัน `numpy.dot` (https://numpy.org/doc/stable/reference/generated/numpy.dot.html)"
   ]
  },
  {
   "cell_type": "code",
   "execution_count": 2,
   "metadata": {},
   "outputs": [
    {
     "name": "stdout",
     "output_type": "stream",
     "text": [
      "d . e =  12\n",
      "d . e =  12\n"
     ]
    }
   ],
   "source": [
    "# dot product\n",
    "d = np.array([1, 2, 3])\n",
    "e = np.array([4, 1, 2])\n",
    "print('d . e = ', np.dot(d, e))\n",
    "print('d . e = ', d @ e)"
   ]
  },
  {
   "cell_type": "markdown",
   "metadata": {},
   "source": [
    "## Norms\n",
    "\n",
    "ใช้ฟังก์ชัน `numpy.linalg.norm` (https://numpy.org/doc/stable/reference/generated/numpy.linalg.norm.html)"
   ]
  },
  {
   "cell_type": "code",
   "execution_count": 3,
   "metadata": {},
   "outputs": [
    {
     "name": "stdout",
     "output_type": "stream",
     "text": [
      "p=2, |f| =  5.0\n",
      "p=1, |f| =  7.0\n",
      "p=inf, |f| =  4.0\n",
      "p=2, |b| =  [4.12310563 2.82842712]\n"
     ]
    }
   ],
   "source": [
    "# norm\n",
    "f = np.array([4, 3])\n",
    "print('p=2, |f| = ', np.linalg.norm(f))\n",
    "print('p=1, |f| = ', np.linalg.norm(f, ord=1))\n",
    "print('p=inf, |f| = ', np.linalg.norm(f, ord=np.inf))\n",
    "print('p=2, |b| = ', np.linalg.norm(b, axis=1))"
   ]
  },
  {
   "cell_type": "code",
   "execution_count": 4,
   "metadata": {},
   "outputs": [
    {
     "data": {
      "text/plain": [
       "array([[4, 1],\n",
       "       [2, 2]])"
      ]
     },
     "execution_count": 4,
     "metadata": {},
     "output_type": "execute_result"
    }
   ],
   "source": [
    "b"
   ]
  },
  {
   "cell_type": "code",
   "execution_count": 5,
   "metadata": {},
   "outputs": [
    {
     "data": {
      "text/plain": [
       "4.123105625617661"
      ]
     },
     "execution_count": 5,
     "metadata": {},
     "output_type": "execute_result"
    }
   ],
   "source": [
    "17**0.5"
   ]
  },
  {
   "cell_type": "code",
   "execution_count": 6,
   "metadata": {},
   "outputs": [
    {
     "data": {
      "text/plain": [
       "2.8284271247461903"
      ]
     },
     "execution_count": 6,
     "metadata": {},
     "output_type": "execute_result"
    }
   ],
   "source": [
    "8**0.5"
   ]
  },
  {
   "cell_type": "markdown",
   "metadata": {},
   "source": [
    "## Unit vector"
   ]
  },
  {
   "cell_type": "code",
   "execution_count": 7,
   "metadata": {},
   "outputs": [
    {
     "name": "stdout",
     "output_type": "stream",
     "text": [
      "[0.26726124 0.53452248 0.80178373] , norm of d_hat =  1.0\n"
     ]
    }
   ],
   "source": [
    "# unit vector\n",
    "d_hat = d / (d**2).sum()**0.5\n",
    "print(d_hat, ', norm of d_hat = ', np.linalg.norm(d_hat))"
   ]
  },
  {
   "cell_type": "code",
   "execution_count": 8,
   "metadata": {},
   "outputs": [
    {
     "data": {
      "text/plain": [
       "array([0.26726124, 0.53452248, 0.80178373])"
      ]
     },
     "execution_count": 8,
     "metadata": {},
     "output_type": "execute_result"
    }
   ],
   "source": [
    "d/np.linalg.norm(d)"
   ]
  },
  {
   "cell_type": "markdown",
   "metadata": {},
   "source": [
    "## Distance\n",
    "\n",
    "ใช้ฟังก์ชัน `scipy.spatial.distance.euclidean` (https://docs.scipy.org/doc/scipy-0.17.0/reference/generated/scipy.spatial.distance.euclidean.html)"
   ]
  },
  {
   "cell_type": "code",
   "execution_count": 9,
   "metadata": {},
   "outputs": [
    {
     "data": {
      "text/plain": [
       "array([1, 2, 3])"
      ]
     },
     "execution_count": 9,
     "metadata": {},
     "output_type": "execute_result"
    }
   ],
   "source": [
    "d"
   ]
  },
  {
   "cell_type": "code",
   "execution_count": 10,
   "metadata": {},
   "outputs": [
    {
     "data": {
      "text/plain": [
       "array([4, 1, 2])"
      ]
     },
     "execution_count": 10,
     "metadata": {},
     "output_type": "execute_result"
    }
   ],
   "source": [
    "e"
   ]
  },
  {
   "cell_type": "code",
   "execution_count": 11,
   "metadata": {},
   "outputs": [
    {
     "data": {
      "text/plain": [
       "3.3166247903554"
      ]
     },
     "execution_count": 11,
     "metadata": {},
     "output_type": "execute_result"
    }
   ],
   "source": [
    "np.linalg.norm(d-e)"
   ]
  },
  {
   "cell_type": "code",
   "execution_count": 12,
   "metadata": {},
   "outputs": [
    {
     "name": "stdout",
     "output_type": "stream",
     "text": [
      "|d - e| =  3.3166247903554\n"
     ]
    }
   ],
   "source": [
    "# distance\n",
    "from scipy.spatial import distance\n",
    "dst = distance.euclidean(d, e)\n",
    "print('|d - e| = ', dst)"
   ]
  },
  {
   "cell_type": "markdown",
   "metadata": {},
   "source": [
    "## Rank\n",
    "\n",
    "ใช้ฟังก์ชัน `numpy.linalg.matrix_rank` (https://numpy.org/doc/stable/reference/generated/numpy.linalg.matrix_rank.html)"
   ]
  },
  {
   "cell_type": "code",
   "execution_count": 13,
   "metadata": {},
   "outputs": [
    {
     "name": "stdout",
     "output_type": "stream",
     "text": [
      "rank A =  3\n"
     ]
    }
   ],
   "source": [
    "# rank\n",
    "from numpy.linalg import matrix_rank\n",
    "rankA = matrix_rank(np.array([[2, 5, -3, -4, 8], \n",
    "                              [4, 7, -4, -3, 9], \n",
    "                              [6, 9, -5, 2, 4], \n",
    "                              [0, -9, 6, 5, -6]]))\n",
    "print('rank A = ', rankA)"
   ]
  },
  {
   "cell_type": "markdown",
   "metadata": {},
   "source": [
    "## Cross product\n",
    "\n",
    "ใช้ฟังก์ชัน `numpy.cross` (https://numpy.org/doc/stable/reference/generated/numpy.cross.html)"
   ]
  },
  {
   "cell_type": "code",
   "execution_count": 14,
   "metadata": {},
   "outputs": [
    {
     "name": "stdout",
     "output_type": "stream",
     "text": [
      "theta = sin-1(|g x h| / |g||h|) =  0.22572612855273394\n",
      "theta = cos-1(|g . h| / |g||h|) =  0.2257261285527342\n"
     ]
    }
   ],
   "source": [
    "# cross product\n",
    "g = [1, 2, 3]\n",
    "h = [4, 5, 6]\n",
    "# print('g x h = ', np.cross(g, h))\n",
    "# print('h x g = ', np.cross(h, g))\n",
    "gxh_abs = np.linalg.norm(np.cross(g, h))\n",
    "g_abs = np.linalg.norm(g)\n",
    "h_abs = np.linalg.norm(h)\n",
    "theta1 = np.arcsin(gxh_abs / (g_abs * h_abs))\n",
    "print('theta = sin-1(|g x h| / |g||h|) = ', theta1)\n",
    "\n",
    "gdh_abs = np.dot(g, h)\n",
    "theta2 = np.arccos(gdh_abs / (g_abs * h_abs))\n",
    "print('theta = cos-1(|g . h| / |g||h|) = ', theta2)"
   ]
  }
 ],
 "metadata": {
  "kernelspec": {
   "display_name": "Python 3 (ipykernel)",
   "language": "python",
   "name": "python3"
  },
  "language_info": {
   "codemirror_mode": {
    "name": "ipython",
    "version": 3
   },
   "file_extension": ".py",
   "mimetype": "text/x-python",
   "name": "python",
   "nbconvert_exporter": "python",
   "pygments_lexer": "ipython3",
   "version": "3.9.1"
  }
 },
 "nbformat": 4,
 "nbformat_minor": 4
}
