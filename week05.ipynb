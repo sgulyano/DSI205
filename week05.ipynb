{
 "cells": [
  {
   "cell_type": "markdown",
   "metadata": {},
   "source": [
    "# Matrix Factorization\n",
    "\n",
    "* ฟังก์ชันที่ควรรู้สำหรับแมทริกซ์\n",
    "* LU Decomposition โดยใช้ `SciPy`\n",
    "* LU Decomposition โดยใช้ Doolittle Algorithm"
   ]
  },
  {
   "cell_type": "markdown",
   "metadata": {},
   "source": [
    "## ฟังก์ชันที่ควรรู้สำหรับแมทริกซ์\n",
    "\n",
    "`np.eye` สำหรับสร้าง identity matrix"
   ]
  },
  {
   "cell_type": "code",
   "execution_count": 1,
   "metadata": {},
   "outputs": [],
   "source": [
    "import numpy as np\n",
    "a = np.array([[0, 1, 2], \n",
    "              [1, 0, 3], \n",
    "              [4, -3, 8]])\n",
    "b = np.eye(a.shape[0])"
   ]
  },
  {
   "cell_type": "code",
   "execution_count": 2,
   "metadata": {},
   "outputs": [
    {
     "name": "stdout",
     "output_type": "stream",
     "text": [
      "(3, 3)\n"
     ]
    }
   ],
   "source": [
    "print(a.shape)"
   ]
  },
  {
   "cell_type": "code",
   "execution_count": 3,
   "metadata": {},
   "outputs": [
    {
     "name": "stdout",
     "output_type": "stream",
     "text": [
      "[[ 0  1  2]\n",
      " [ 1  0  3]\n",
      " [ 4 -3  8]]\n"
     ]
    }
   ],
   "source": [
    "print(a)"
   ]
  },
  {
   "cell_type": "markdown",
   "metadata": {},
   "source": [
    "ฟังก์ชัน `np.diag` สำหรับหา diagonal entry ของแมทริกซ์"
   ]
  },
  {
   "cell_type": "code",
   "execution_count": 4,
   "metadata": {},
   "outputs": [
    {
     "name": "stdout",
     "output_type": "stream",
     "text": [
      "[0 0 8]\n"
     ]
    }
   ],
   "source": [
    "print(np.diag(a))"
   ]
  },
  {
   "cell_type": "code",
   "execution_count": 5,
   "metadata": {},
   "outputs": [
    {
     "name": "stdout",
     "output_type": "stream",
     "text": [
      "[[1. 0. 0.]\n",
      " [0. 1. 0.]\n",
      " [0. 0. 1.]]\n"
     ]
    }
   ],
   "source": [
    "print(b)"
   ]
  },
  {
   "cell_type": "code",
   "execution_count": 6,
   "metadata": {},
   "outputs": [
    {
     "data": {
      "text/plain": [
       "(3, 1)"
      ]
     },
     "execution_count": 6,
     "metadata": {},
     "output_type": "execute_result"
    }
   ],
   "source": [
    "c = np.array([[1],[2],[3]])\n",
    "c.shape"
   ]
  },
  {
   "cell_type": "code",
   "execution_count": 7,
   "metadata": {},
   "outputs": [
    {
     "data": {
      "text/plain": [
       "array([[1],\n",
       "       [2],\n",
       "       [3]])"
      ]
     },
     "execution_count": 7,
     "metadata": {},
     "output_type": "execute_result"
    }
   ],
   "source": [
    "c"
   ]
  },
  {
   "cell_type": "markdown",
   "metadata": {},
   "source": [
    "`ndim` ใช้บอกจำนวนมิติของอาเรย์"
   ]
  },
  {
   "cell_type": "code",
   "execution_count": 8,
   "metadata": {},
   "outputs": [
    {
     "data": {
      "text/plain": [
       "2"
      ]
     },
     "execution_count": 8,
     "metadata": {},
     "output_type": "execute_result"
    }
   ],
   "source": [
    "c.ndim"
   ]
  },
  {
   "cell_type": "code",
   "execution_count": 9,
   "metadata": {},
   "outputs": [
    {
     "data": {
      "text/plain": [
       "array([1])"
      ]
     },
     "execution_count": 9,
     "metadata": {},
     "output_type": "execute_result"
    }
   ],
   "source": [
    "np.diag(c)"
   ]
  },
  {
   "cell_type": "code",
   "execution_count": 10,
   "metadata": {},
   "outputs": [
    {
     "data": {
      "text/plain": [
       "(3,)"
      ]
     },
     "execution_count": 10,
     "metadata": {},
     "output_type": "execute_result"
    }
   ],
   "source": [
    "d = np.array([1,2,3])\n",
    "d.shape"
   ]
  },
  {
   "cell_type": "code",
   "execution_count": 11,
   "metadata": {},
   "outputs": [
    {
     "data": {
      "text/plain": [
       "1"
      ]
     },
     "execution_count": 11,
     "metadata": {},
     "output_type": "execute_result"
    }
   ],
   "source": [
    "d.ndim"
   ]
  },
  {
   "cell_type": "markdown",
   "metadata": {},
   "source": [
    "ในขณะเดียวกันฟังก์ชัน `np.diag` สามารถใช้ในการสร้าง diagonal matrix ได้ด้วยโดยป้อน 1D array ให้"
   ]
  },
  {
   "cell_type": "code",
   "execution_count": 12,
   "metadata": {},
   "outputs": [
    {
     "data": {
      "text/plain": [
       "array([[1, 0, 0],\n",
       "       [0, 2, 0],\n",
       "       [0, 0, 3]])"
      ]
     },
     "execution_count": 12,
     "metadata": {},
     "output_type": "execute_result"
    }
   ],
   "source": [
    "np.diag(d)"
   ]
  },
  {
   "cell_type": "code",
   "execution_count": 13,
   "metadata": {},
   "outputs": [
    {
     "data": {
      "text/plain": [
       "array([1, 2, 3])"
      ]
     },
     "execution_count": 13,
     "metadata": {},
     "output_type": "execute_result"
    }
   ],
   "source": [
    "d"
   ]
  },
  {
   "cell_type": "code",
   "execution_count": 14,
   "metadata": {},
   "outputs": [
    {
     "data": {
      "text/plain": [
       "array([[1, 0, 0],\n",
       "       [0, 2, 0],\n",
       "       [0, 0, 3]])"
      ]
     },
     "execution_count": 14,
     "metadata": {},
     "output_type": "execute_result"
    }
   ],
   "source": [
    "np.diag([1,2,3])"
   ]
  },
  {
   "cell_type": "code",
   "execution_count": 15,
   "metadata": {},
   "outputs": [
    {
     "data": {
      "text/plain": [
       "array([[1., 0., 0., 0.],\n",
       "       [0., 1., 0., 0.],\n",
       "       [0., 0., 1., 0.],\n",
       "       [0., 0., 0., 1.]])"
      ]
     },
     "execution_count": 15,
     "metadata": {},
     "output_type": "execute_result"
    }
   ],
   "source": [
    "np.eye(4)"
   ]
  },
  {
   "cell_type": "markdown",
   "metadata": {},
   "source": [
    "## LU Decomposition โดยใช้ `SciPy`\n",
    "\n",
    "https://docs.scipy.org/doc/scipy/reference/generated/scipy.linalg.lu.html"
   ]
  },
  {
   "cell_type": "code",
   "execution_count": 16,
   "metadata": {},
   "outputs": [
    {
     "name": "stdout",
     "output_type": "stream",
     "text": [
      "A:\n",
      "array([[2, 3, 2],\n",
      "       [1, 3, 2],\n",
      "       [3, 4, 1]])\n",
      "P:\n",
      "array([[0., 0., 1.],\n",
      "       [0., 1., 0.],\n",
      "       [1., 0., 0.]])\n",
      "L:\n",
      "array([[1.        , 0.        , 0.        ],\n",
      "       [0.33333333, 1.        , 0.        ],\n",
      "       [0.66666667, 0.2       , 1.        ]])\n",
      "U:\n",
      "array([[3.        , 4.        , 1.        ],\n",
      "       [0.        , 1.66666667, 1.66666667],\n",
      "       [0.        , 0.        , 1.        ]])\n",
      "PLU :\n",
      "array([[2., 3., 2.],\n",
      "       [1., 3., 2.],\n",
      "       [3., 4., 1.]])\n"
     ]
    }
   ],
   "source": [
    "import pprint\n",
    "import scipy.linalg\n",
    "\n",
    "A = np.array([[2, 3, 2], \n",
    "              [1, 3, 2], \n",
    "              [3, 4, 1]])\n",
    "P, L, U = scipy.linalg.lu(A)\n",
    "\n",
    "print(\"A:\")\n",
    "pprint.pprint(A)\n",
    "\n",
    "print(\"P:\")\n",
    "pprint.pprint(P)\n",
    "\n",
    "print(\"L:\")\n",
    "pprint.pprint(L)\n",
    "\n",
    "print(\"U:\")\n",
    "pprint.pprint(U)\n",
    "\n",
    "print(\"PLU :\")\n",
    "pprint.pprint(np.linalg.multi_dot([P, L, U]))"
   ]
  },
  {
   "cell_type": "code",
   "execution_count": 17,
   "metadata": {},
   "outputs": [
    {
     "name": "stdout",
     "output_type": "stream",
     "text": [
      "array([[3., 4., 1.],\n",
      "       [1., 3., 2.],\n",
      "       [2., 3., 2.]])\n"
     ]
    }
   ],
   "source": [
    "pprint.pprint(np.linalg.multi_dot([L, U]))"
   ]
  },
  {
   "cell_type": "markdown",
   "metadata": {},
   "source": [
    "## LU Decomposition โดยใช้ Doolittle Algorithm\n",
    "\n",
    "โค้ดจาก https://www.geeksforgeeks.org/doolittle-algorithm-lu-decomposition/"
   ]
  },
  {
   "cell_type": "code",
   "execution_count": 18,
   "metadata": {},
   "outputs": [],
   "source": [
    "MAX = 100\n",
    "  \n",
    "def luDecomposition(mat, n): \n",
    "    \"\"\" Python3 Program to decompose a matrix into lower and upper traingular matrix \"\"\"\n",
    "  \n",
    "    lower = [[0 for x in range(n)]  \n",
    "                for y in range(n)]\n",
    "    upper = [[0 for x in range(n)]  \n",
    "                for y in range(n)]\n",
    "                  \n",
    "    # Decomposing matrix into Upper  \n",
    "    # and Lower triangular matrix \n",
    "    for k in range(n): \n",
    "  \n",
    "        # Upper Triangular \n",
    "        for m in range(k, n):  \n",
    "  \n",
    "            # Summation of L(k, j) * U(j, m) \n",
    "            s = 0; \n",
    "            for j in range(k): \n",
    "                s += (lower[k][j] * upper[j][m]); \n",
    "  \n",
    "            # Evaluating U(k, m) \n",
    "            upper[k][m] = mat[k][m] - s; \n",
    "  \n",
    "        # Lower Triangular \n",
    "        for i in range(k, n): \n",
    "            if (i == k): \n",
    "                lower[i][i] = 1; # Diagonal as 1 \n",
    "            else: \n",
    "  \n",
    "                # Summation of L(i, j) * U(j, k) \n",
    "                s = 0; \n",
    "                for j in range(k): \n",
    "                    s += (lower[i][j] * upper[j][k]); \n",
    "  \n",
    "                # Evaluating L(i, k) \n",
    "                lower[i][k] = float((mat[i][k] - s) /\n",
    "                                       upper[k][k]);\n",
    "  \n",
    "    # setw is for displaying nicely \n",
    "    print(\"Lower Triangular\\t\\tUpper Triangular\"); \n",
    "  \n",
    "    # Displaying the result : \n",
    "    for i in range(n): \n",
    "          \n",
    "        # Lower \n",
    "        for j in range(n): \n",
    "            print(f'{lower[i][j]:.3f}', end = \"\\t\");  \n",
    "        print(\"\", end = \"\\t\"); \n",
    "  \n",
    "        # Upper \n",
    "        for j in range(n): \n",
    "            print(f'{upper[i][j]:.3f}', end = \"\\t\"); \n",
    "        print(\"\"); \n",
    "# This code is contributed by mits "
   ]
  },
  {
   "cell_type": "code",
   "execution_count": 19,
   "metadata": {},
   "outputs": [
    {
     "name": "stdout",
     "output_type": "stream",
     "text": [
      "Lower Triangular\t\tUpper Triangular\n",
      "1.000\t0.000\t0.000\t\t2.000\t3.000\t2.000\t\n",
      "0.500\t1.000\t0.000\t\t0.000\t1.500\t1.000\t\n",
      "1.500\t-0.333\t1.000\t\t0.000\t0.000\t-1.667\t\n"
     ]
    }
   ],
   "source": [
    "mat = [[2, 3, 2], \n",
    "       [1, 3, 2], \n",
    "       [3, 4, 1]]\n",
    "  \n",
    "luDecomposition(mat, 3); "
   ]
  },
  {
   "cell_type": "code",
   "execution_count": 20,
   "metadata": {},
   "outputs": [
    {
     "name": "stdout",
     "output_type": "stream",
     "text": [
      "Lower Triangular\t\tUpper Triangular\n",
      "1.000\t0.000\t0.000\t\t3.000\t3.000\t4.000\t\n",
      "2.000\t1.000\t0.000\t\t0.000\t2.000\t-1.000\t\n",
      "-1.000\t4.000\t1.000\t\t0.000\t0.000\t-1.000\t\n"
     ]
    }
   ],
   "source": [
    "mat = [[3, 3, 4], \n",
    "       [6, 8, 7], \n",
    "       [-3, 5, -9]]\n",
    "luDecomposition(mat, 3)"
   ]
  }
 ],
 "metadata": {
  "kernelspec": {
   "display_name": "Python 3 (ipykernel)",
   "language": "python",
   "name": "python3"
  },
  "language_info": {
   "codemirror_mode": {
    "name": "ipython",
    "version": 3
   },
   "file_extension": ".py",
   "mimetype": "text/x-python",
   "name": "python",
   "nbconvert_exporter": "python",
   "pygments_lexer": "ipython3",
   "version": "3.9.1"
  }
 },
 "nbformat": 4,
 "nbformat_minor": 4
}
