{
 "cells": [
  {
   "cell_type": "markdown",
   "metadata": {},
   "source": [
    "# Matrix Factorization"
   ]
  },
  {
   "cell_type": "code",
   "execution_count": 1,
   "metadata": {},
   "outputs": [
    {
     "name": "stdout",
     "output_type": "stream",
     "text": [
      "(3, 3)\n",
      "[[ 0  1  2]\n",
      " [ 1  0  3]\n",
      " [ 4 -3  8]]\n",
      "[0 0 8]\n",
      "[[1. 0. 0.]\n",
      " [0. 1. 0.]\n",
      " [0. 0. 1.]]\n"
     ]
    }
   ],
   "source": [
    "#%% 1\n",
    "import numpy as np\n",
    "a = np.array([[0, 1, 2], \n",
    "              [1, 0, 3], \n",
    "              [4, -3, 8]])\n",
    "b = np.eye(a.shape[0])\n",
    "print(a.shape)\n",
    "print(a)\n",
    "print(np.diag(a))\n",
    "print(b)"
   ]
  },
  {
   "cell_type": "code",
   "execution_count": 13,
   "metadata": {},
   "outputs": [
    {
     "data": {
      "text/plain": [
       "3"
      ]
     },
     "execution_count": 13,
     "metadata": {},
     "output_type": "execute_result"
    }
   ],
   "source": [
    "a.shape[0]"
   ]
  },
  {
   "cell_type": "code",
   "execution_count": 3,
   "metadata": {},
   "outputs": [
    {
     "name": "stdout",
     "output_type": "stream",
     "text": [
      "[[ 0  1  2]\n",
      " [ 1  0  3]\n",
      " [ 4 -3  8]]\n"
     ]
    }
   ],
   "source": [
    "a = np.array([[0, 1, 2], \n",
    "              [1, 0, 3], \n",
    "              [4, -3, 8]])\n",
    "print(a)"
   ]
  },
  {
   "cell_type": "code",
   "execution_count": 14,
   "metadata": {},
   "outputs": [],
   "source": [
    "c = np.array([[1],[2],[3]])"
   ]
  },
  {
   "cell_type": "code",
   "execution_count": 15,
   "metadata": {},
   "outputs": [
    {
     "data": {
      "text/plain": [
       "(3, 1)"
      ]
     },
     "execution_count": 15,
     "metadata": {},
     "output_type": "execute_result"
    }
   ],
   "source": [
    "c.shape"
   ]
  },
  {
   "cell_type": "code",
   "execution_count": 18,
   "metadata": {},
   "outputs": [
    {
     "data": {
      "text/plain": [
       "array([[1],\n",
       "       [2],\n",
       "       [3]])"
      ]
     },
     "execution_count": 18,
     "metadata": {},
     "output_type": "execute_result"
    }
   ],
   "source": [
    "c"
   ]
  },
  {
   "cell_type": "code",
   "execution_count": 20,
   "metadata": {},
   "outputs": [
    {
     "data": {
      "text/plain": [
       "2"
      ]
     },
     "execution_count": 20,
     "metadata": {},
     "output_type": "execute_result"
    }
   ],
   "source": [
    "c.ndim"
   ]
  },
  {
   "cell_type": "code",
   "execution_count": 16,
   "metadata": {},
   "outputs": [],
   "source": [
    "d = np.array([1,2,3])"
   ]
  },
  {
   "cell_type": "code",
   "execution_count": 17,
   "metadata": {},
   "outputs": [
    {
     "data": {
      "text/plain": [
       "(3,)"
      ]
     },
     "execution_count": 17,
     "metadata": {},
     "output_type": "execute_result"
    }
   ],
   "source": [
    "d.shape"
   ]
  },
  {
   "cell_type": "code",
   "execution_count": 21,
   "metadata": {},
   "outputs": [
    {
     "data": {
      "text/plain": [
       "1"
      ]
     },
     "execution_count": 21,
     "metadata": {},
     "output_type": "execute_result"
    }
   ],
   "source": [
    "d.ndim"
   ]
  },
  {
   "cell_type": "code",
   "execution_count": 22,
   "metadata": {},
   "outputs": [
    {
     "data": {
      "text/plain": [
       "array([[1, 0, 0],\n",
       "       [0, 2, 0],\n",
       "       [0, 0, 3]])"
      ]
     },
     "execution_count": 22,
     "metadata": {},
     "output_type": "execute_result"
    }
   ],
   "source": [
    "np.diag(d)"
   ]
  },
  {
   "cell_type": "code",
   "execution_count": 23,
   "metadata": {},
   "outputs": [
    {
     "data": {
      "text/plain": [
       "array([1])"
      ]
     },
     "execution_count": 23,
     "metadata": {},
     "output_type": "execute_result"
    }
   ],
   "source": [
    "np.diag(c)"
   ]
  },
  {
   "cell_type": "code",
   "execution_count": 19,
   "metadata": {},
   "outputs": [
    {
     "data": {
      "text/plain": [
       "array([1, 2, 3])"
      ]
     },
     "execution_count": 19,
     "metadata": {},
     "output_type": "execute_result"
    }
   ],
   "source": [
    "d"
   ]
  },
  {
   "cell_type": "code",
   "execution_count": 4,
   "metadata": {},
   "outputs": [
    {
     "data": {
      "text/plain": [
       "(3, 3)"
      ]
     },
     "execution_count": 4,
     "metadata": {},
     "output_type": "execute_result"
    }
   ],
   "source": [
    "a.shape"
   ]
  },
  {
   "cell_type": "code",
   "execution_count": 6,
   "metadata": {},
   "outputs": [
    {
     "data": {
      "text/plain": [
       "array([[1, 0, 0],\n",
       "       [0, 2, 0],\n",
       "       [0, 0, 3]])"
      ]
     },
     "execution_count": 6,
     "metadata": {},
     "output_type": "execute_result"
    }
   ],
   "source": [
    "np.diag([1,2,3])"
   ]
  },
  {
   "cell_type": "code",
   "execution_count": 12,
   "metadata": {},
   "outputs": [
    {
     "data": {
      "text/plain": [
       "array([[1., 0., 0., 0.],\n",
       "       [0., 1., 0., 0.],\n",
       "       [0., 0., 1., 0.],\n",
       "       [0., 0., 0., 1.]])"
      ]
     },
     "execution_count": 12,
     "metadata": {},
     "output_type": "execute_result"
    }
   ],
   "source": [
    "np.eye(4)"
   ]
  },
  {
   "cell_type": "code",
   "execution_count": 7,
   "metadata": {},
   "outputs": [
    {
     "name": "stdout",
     "output_type": "stream",
     "text": [
      "[[1. 0. 0.]\n",
      " [0. 1. 0.]\n",
      " [0. 0. 1.]]\n"
     ]
    }
   ],
   "source": [
    "print(b)"
   ]
  },
  {
   "cell_type": "markdown",
   "metadata": {},
   "source": [
    "## LU Decomposition"
   ]
  },
  {
   "cell_type": "code",
   "execution_count": 24,
   "metadata": {},
   "outputs": [
    {
     "name": "stdout",
     "output_type": "stream",
     "text": [
      "A:\n",
      "array([[2, 3, 2],\n",
      "       [1, 3, 2],\n",
      "       [3, 4, 1]])\n",
      "P:\n",
      "array([[0., 0., 1.],\n",
      "       [0., 1., 0.],\n",
      "       [1., 0., 0.]])\n",
      "L:\n",
      "array([[1.        , 0.        , 0.        ],\n",
      "       [0.33333333, 1.        , 0.        ],\n",
      "       [0.66666667, 0.2       , 1.        ]])\n",
      "U:\n",
      "array([[3.        , 4.        , 1.        ],\n",
      "       [0.        , 1.66666667, 1.66666667],\n",
      "       [0.        , 0.        , 1.        ]])\n",
      "PLU :\n",
      "array([[2., 3., 2.],\n",
      "       [1., 3., 2.],\n",
      "       [3., 4., 1.]])\n"
     ]
    }
   ],
   "source": [
    "#%% 2\n",
    "import pprint\n",
    "import scipy.linalg\n",
    "\n",
    "A = np.array([[2, 3, 2], \n",
    "              [1, 3, 2], \n",
    "              [3, 4, 1]])\n",
    "P, L, U = scipy.linalg.lu(A)\n",
    "\n",
    "print(\"A:\")\n",
    "pprint.pprint(A)\n",
    "\n",
    "print(\"P:\")\n",
    "pprint.pprint(P)\n",
    "\n",
    "print(\"L:\")\n",
    "pprint.pprint(L)\n",
    "\n",
    "print(\"U:\")\n",
    "pprint.pprint(U)\n",
    "\n",
    "print(\"PLU :\")\n",
    "pprint.pprint(np.linalg.multi_dot([P, L, U]))"
   ]
  },
  {
   "cell_type": "code",
   "execution_count": 25,
   "metadata": {},
   "outputs": [
    {
     "name": "stdout",
     "output_type": "stream",
     "text": [
      "array([[3., 4., 1.],\n",
      "       [1., 3., 2.],\n",
      "       [2., 3., 2.]])\n"
     ]
    }
   ],
   "source": [
    "pprint.pprint(np.linalg.multi_dot([L, U]))"
   ]
  },
  {
   "cell_type": "markdown",
   "metadata": {},
   "source": [
    "## LU Decomposition โดยใช้ Doolittle Algorithm"
   ]
  },
  {
   "cell_type": "code",
   "execution_count": 28,
   "metadata": {},
   "outputs": [
    {
     "name": "stdout",
     "output_type": "stream",
     "text": [
      "Lower Triangular\t\tUpper Triangular\n",
      "1.000\t0.000\t0.000\t\t2.000\t3.000\t2.000\t\n",
      "0.500\t1.000\t0.000\t\t0.000\t1.500\t1.000\t\n",
      "1.500\t-0.333\t1.000\t\t0.000\t0.000\t-1.667\t\n"
     ]
    }
   ],
   "source": [
    "# Python3 Program to decompose  \n",
    "# a matrix into lower and \n",
    "# upper traingular matrix \n",
    "MAX = 100; \n",
    "  \n",
    "def luDecomposition(mat, n): \n",
    "  \n",
    "    lower = [[0 for x in range(n)]  \n",
    "                for y in range(n)]; \n",
    "    upper = [[0 for x in range(n)]  \n",
    "                for y in range(n)]; \n",
    "                  \n",
    "    # Decomposing matrix into Upper  \n",
    "    # and Lower triangular matrix \n",
    "    for k in range(n): \n",
    "  \n",
    "        # Upper Triangular \n",
    "        for m in range(k, n):  \n",
    "  \n",
    "            # Summation of L(k, j) * U(j, m) \n",
    "            s = 0; \n",
    "            for j in range(k): \n",
    "                s += (lower[k][j] * upper[j][m]); \n",
    "  \n",
    "            # Evaluating U(k, m) \n",
    "            upper[k][m] = mat[k][m] - s; \n",
    "  \n",
    "        # Lower Triangular \n",
    "        for i in range(k, n): \n",
    "            if (i == k): \n",
    "                lower[i][i] = 1; # Diagonal as 1 \n",
    "            else: \n",
    "  \n",
    "                # Summation of L(i, j) * U(j, k) \n",
    "                s = 0; \n",
    "                for j in range(k): \n",
    "                    s += (lower[i][j] * upper[j][k]); \n",
    "  \n",
    "                # Evaluating L(i, k) \n",
    "                lower[i][k] = float((mat[i][k] - s) /\n",
    "                                       upper[k][k]);\n",
    "  \n",
    "    # setw is for displaying nicely \n",
    "    print(\"Lower Triangular\\t\\tUpper Triangular\"); \n",
    "  \n",
    "    # Displaying the result : \n",
    "    for i in range(n): \n",
    "          \n",
    "        # Lower \n",
    "        for j in range(n): \n",
    "            print(f'{lower[i][j]:.3f}', end = \"\\t\");  \n",
    "        print(\"\", end = \"\\t\"); \n",
    "  \n",
    "        # Upper \n",
    "        for j in range(n): \n",
    "            print(f'{upper[i][j]:.3f}', end = \"\\t\"); \n",
    "        print(\"\"); \n",
    "  \n",
    "# Driver code \n",
    "mat = [[2, 3, 2], \n",
    "       [1, 3, 2], \n",
    "       [3, 4, 1]]\n",
    "  \n",
    "luDecomposition(mat, 3); \n",
    "  \n",
    "# This code is contributed by mits "
   ]
  },
  {
   "cell_type": "code",
   "execution_count": null,
   "metadata": {},
   "outputs": [],
   "source": []
  }
 ],
 "metadata": {
  "kernelspec": {
   "display_name": "Python 3",
   "language": "python",
   "name": "python3"
  },
  "language_info": {
   "codemirror_mode": {
    "name": "ipython",
    "version": 3
   },
   "file_extension": ".py",
   "mimetype": "text/x-python",
   "name": "python",
   "nbconvert_exporter": "python",
   "pygments_lexer": "ipython3",
   "version": "3.7.3"
  }
 },
 "nbformat": 4,
 "nbformat_minor": 4
}
