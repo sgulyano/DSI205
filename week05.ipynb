{
 "cells": [
  {
   "cell_type": "code",
   "execution_count": null,
   "metadata": {},
   "outputs": [],
   "source": [
    "#%% 1\n",
    "import numpy as np\n",
    "a = np.array([[0, 1, 2], \n",
    "              [1, 0, 3], \n",
    "              [4, -3, 8]])\n",
    "b = np.eye(a.shape[0])\n",
    "print(a.shape)\n",
    "print(a)\n",
    "print(np.diag(a))\n",
    "print(b)"
   ]
  },
  {
   "cell_type": "markdown",
   "metadata": {},
   "source": [
    "## LU Decomposition"
   ]
  },
  {
   "cell_type": "code",
   "execution_count": null,
   "metadata": {},
   "outputs": [],
   "source": [
    "#%% 2\n",
    "import pprint\n",
    "import scipy.linalg\n",
    "\n",
    "A = np.array([[2, 3, 2], \n",
    "              [1, 3, 2], \n",
    "              [3, 4, 1]])\n",
    "P, L, U = scipy.linalg.lu(A)\n",
    "\n",
    "print(\"A:\")\n",
    "pprint.pprint(A)\n",
    "\n",
    "print(\"P:\")\n",
    "pprint.pprint(P)\n",
    "\n",
    "print(\"L:\")\n",
    "pprint.pprint(L)\n",
    "\n",
    "print(\"U:\")\n",
    "pprint.pprint(U)\n",
    "\n",
    "print(\"PLU :\")\n",
    "pprint.pprint(np.linalg.multi_dot([P, L, U]))"
   ]
  },
  {
   "cell_type": "markdown",
   "metadata": {},
   "source": [
    "LU Decomposition โดยใช้ Doolittle Algorithm"
   ]
  },
  {
   "cell_type": "code",
   "execution_count": null,
   "metadata": {},
   "outputs": [],
   "source": [
    "# Python3 Program to decompose  \n",
    "# a matrix into lower and \n",
    "# upper traingular matrix \n",
    "MAX = 100; \n",
    "  \n",
    "def luDecomposition(mat, n): \n",
    "  \n",
    "    lower = [[0 for x in range(n)]  \n",
    "                for y in range(n)]; \n",
    "    upper = [[0 for x in range(n)]  \n",
    "                for y in range(n)]; \n",
    "                  \n",
    "    # Decomposing matrix into Upper  \n",
    "    # and Lower triangular matrix \n",
    "    for i in range(n): \n",
    "  \n",
    "        # Upper Triangular \n",
    "        for k in range(i, n):  \n",
    "  \n",
    "            # Summation of L(i, j) * U(j, k) \n",
    "            sum = 0; \n",
    "            for j in range(i): \n",
    "                sum += (lower[i][j] * upper[j][k]); \n",
    "  \n",
    "            # Evaluating U(i, k) \n",
    "            upper[i][k] = mat[i][k] - sum; \n",
    "  \n",
    "        # Lower Triangular \n",
    "        for k in range(i, n): \n",
    "            if (i == k): \n",
    "                lower[i][i] = 1; # Diagonal as 1 \n",
    "            else: \n",
    "  \n",
    "                # Summation of L(k, j) * U(j, i) \n",
    "                sum = 0; \n",
    "                for j in range(i): \n",
    "                    sum += (lower[k][j] * upper[j][i]); \n",
    "  \n",
    "                # Evaluating L(k, i) \n",
    "                lower[k][i] = float((mat[k][i] - sum) /\n",
    "                                       upper[i][i]);\n",
    "  \n",
    "    # setw is for displaying nicely \n",
    "    print(\"Lower Triangular\\t\\tUpper Triangular\"); \n",
    "  \n",
    "    # Displaying the result : \n",
    "    for i in range(n): \n",
    "          \n",
    "        # Lower \n",
    "        for j in range(n): \n",
    "            print(f'{lower[i][j]:.3f}', end = \"\\t\");  \n",
    "        print(\"\", end = \"\\t\"); \n",
    "  \n",
    "        # Upper \n",
    "        for j in range(n): \n",
    "            print(f'{upper[i][j]:.3f}', end = \"\\t\"); \n",
    "        print(\"\"); \n",
    "  \n",
    "# Driver code \n",
    "mat = [[2, 3, 2], \n",
    "       [1, 3, 2], \n",
    "       [3, 4, 1]]\n",
    "  \n",
    "luDecomposition(mat, 3); \n",
    "  \n",
    "# This code is contributed by mits "
   ]
  }
 ],
 "metadata": {
  "kernelspec": {
   "display_name": "Python 3",
   "language": "python",
   "name": "python3"
  },
  "language_info": {
   "codemirror_mode": {
    "name": "ipython",
    "version": 3
   },
   "file_extension": ".py",
   "mimetype": "text/x-python",
   "name": "python",
   "nbconvert_exporter": "python",
   "pygments_lexer": "ipython3",
   "version": "3.7.3"
  }
 },
 "nbformat": 4,
 "nbformat_minor": 4
}
