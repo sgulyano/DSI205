{
 "cells": [
  {
   "cell_type": "markdown",
   "metadata": {},
   "source": [
    "# Orthogonal\n",
    "\n",
    "Two vectors are called **orthogonal** if $u \\cdot v = 0$"
   ]
  },
  {
   "cell_type": "code",
   "execution_count": 1,
   "metadata": {},
   "outputs": [
    {
     "name": "stdout",
     "output_type": "stream",
     "text": [
      "u1 . u2 =  0\n",
      "u1 . u3 =  0.0\n",
      "u2 . u3 =  0.0\n"
     ]
    }
   ],
   "source": [
    "import numpy as np\n",
    "\n",
    "# orthogonal\n",
    "u1 = [3,1,1]\n",
    "u2 = [-1,2,1]\n",
    "u3 = [-1/2,-2,7/2]\n",
    "print('u1 . u2 = ', np.dot(u1,u2))\n",
    "print('u1 . u3 = ', np.dot(u1,u3))\n",
    "print('u2 . u3 = ', np.dot(u2,u3))"
   ]
  },
  {
   "cell_type": "markdown",
   "metadata": {},
   "source": [
    "## Orthogonal projection"
   ]
  },
  {
   "cell_type": "code",
   "execution_count": 2,
   "metadata": {},
   "outputs": [
    {
     "name": "stdout",
     "output_type": "stream",
     "text": [
      "y =  [7 6]\n",
      "u =  [4 2]\n",
      "y_hat =  [8. 4.]\n",
      "z =  [-1.  2.]\n",
      "y_hat . z =  0.0\n"
     ]
    }
   ],
   "source": [
    "# orthogonal project\n",
    "y = np.array([7, 6])\n",
    "u = np.array([4, 2])\n",
    "y_hat = (y@u) / (u@u) * u\n",
    "print('y = ', y)\n",
    "print('u = ', u)\n",
    "print('y_hat = ', y_hat) # find projection of y on u\n",
    "z = y - y_hat\n",
    "print('z = ', z)\n",
    "print('y_hat . z = ', np.dot(y_hat, z))"
   ]
  },
  {
   "cell_type": "markdown",
   "metadata": {},
   "source": [
    ", where $y \\cdot u = 7*4 + 6*2 = 40$"
   ]
  },
  {
   "cell_type": "code",
   "execution_count": 3,
   "metadata": {},
   "outputs": [
    {
     "data": {
      "text/plain": [
       "40"
      ]
     },
     "execution_count": 3,
     "metadata": {},
     "output_type": "execute_result"
    }
   ],
   "source": [
    "y@u"
   ]
  },
  {
   "cell_type": "markdown",
   "metadata": {},
   "source": [
    "and $u \\cdot u = 4*4 + 2*2 = 20$"
   ]
  },
  {
   "cell_type": "code",
   "execution_count": 4,
   "metadata": {},
   "outputs": [
    {
     "data": {
      "text/plain": [
       "20"
      ]
     },
     "execution_count": 4,
     "metadata": {},
     "output_type": "execute_result"
    }
   ],
   "source": [
    "u@u"
   ]
  },
  {
   "cell_type": "markdown",
   "metadata": {},
   "source": [
    "## QR factorization\n",
    "\n",
    "ใช้ฟังก์ชัน `numpy.linalg.qr` (https://numpy.org/doc/stable/reference/generated/numpy.linalg.qr.html)"
   ]
  },
  {
   "cell_type": "code",
   "execution_count": 5,
   "metadata": {},
   "outputs": [
    {
     "name": "stdout",
     "output_type": "stream",
     "text": [
      "A = \n",
      " [[2 1]\n",
      " [2 0]\n",
      " [1 1]]\n",
      "q = \n",
      " [[-0.66666667  0.33333333]\n",
      " [-0.66666667 -0.66666667]\n",
      " [-0.33333333  0.66666667]]\n",
      "r = \n",
      " [[-3. -1.]\n",
      " [ 0.  1.]]\n",
      "A = QR?  True\n",
      "R = QT A?  True\n",
      "QTQ = \n",
      " [[ 1. -0.]\n",
      " [-0.  1.]]\n"
     ]
    }
   ],
   "source": [
    "# QR factorization\n",
    "import numpy.linalg as LA\n",
    "# A = np.array([[1, 2, 5], [-1, 1, -4], [-1, 4, -3], [1, -4, 7], [1, 2, 1]])\n",
    "A = np.array([[2,1], [2,0], [1,1]])\n",
    "q, r = LA.qr(A)\n",
    "print('A = \\n', A)\n",
    "print('q = \\n', q)\n",
    "print('r = \\n', r)\n",
    "print('A = QR? ', np.allclose(A, np.dot(q, r)))  # a does equal qr\n",
    "print('R = QT A? ', np.allclose(r, q.T @ A))  # a does equal qr\n",
    "print('QTQ = \\n', np.round(q.T @ q, 10))"
   ]
  },
  {
   "cell_type": "code",
   "execution_count": 6,
   "metadata": {},
   "outputs": [
    {
     "name": "stdout",
     "output_type": "stream",
     "text": [
      "QT Q = \n",
      " [[ 1.00000000e+00 -1.11022302e-16]\n",
      " [-1.11022302e-16  1.00000000e+00]]\n"
     ]
    }
   ],
   "source": [
    "print('QT Q = \\n', q.T @ q)"
   ]
  },
  {
   "cell_type": "markdown",
   "metadata": {},
   "source": [
    "## QR algorithm using eigenvalues and eigenvectors\n",
    "\n",
    "From spectral theorem, where $A_{k+1} = Q^{-1}_k A_k Q_k$, so\n",
    "\n",
    "$A_{k+1} = R_k Q_k$\n",
    "\n",
    "and from QR decomposition\n",
    "\n",
    "$A_k = Q_k R_k$\n",
    "\n",
    "As the iteration goes, we will eventually converge to an upper triangular matrix form, where eigenvalues are the diagonal entries."
   ]
  },
  {
   "cell_type": "code",
   "execution_count": 7,
   "metadata": {
    "tags": []
   },
   "outputs": [
    {
     "name": "stdout",
     "output_type": "stream",
     "text": [
      "A = \n",
      " [[1 6]\n",
      " [5 2]]\n",
      "\n",
      "\t i = 0\n",
      "eigenvalues = \n",
      " [[ 4.07692308  4.38461538]\n",
      " [ 5.38461538 -1.07692308]]\n",
      "\n",
      "\t i = 1\n",
      "eigenvalues = \n",
      " [[ 5.50252951  4.30522766]\n",
      " [ 3.30522766 -2.50252951]]\n",
      "\n",
      "\t i = 2\n",
      "eigenvalues = \n",
      " [[ 6.73936889  1.24614251]\n",
      " [ 2.24614251 -3.73936889]]\n",
      "\n",
      "\t i = 3\n",
      "eigenvalues = \n",
      " [[ 6.73932699  2.24626823]\n",
      " [ 1.24626823 -3.73932699]]\n",
      "\n",
      "\t i = 4\n",
      "eigenvalues = \n",
      " [[ 7.01733607 -0.25709521]\n",
      " [ 0.74290479 -4.01733607]]\n",
      "\n",
      "\t i = 5\n",
      "eigenvalues = \n",
      " [[ 6.94589323  1.41774014]\n",
      " [ 0.41774014 -3.94589323]]\n",
      "\n",
      "\t i = 6\n",
      "eigenvalues = \n",
      " [[ 7.01663059 -0.75843167]\n",
      " [ 0.24156833 -4.01663059]]\n",
      "\n",
      "\t i = 7\n",
      "eigenvalues = \n",
      " [[ 6.98579503  1.13722282]\n",
      " [ 0.13722282 -3.98579503]]\n",
      "\n",
      "\t i = 8\n",
      "eigenvalues = \n",
      " [[ 7.00658768 -0.92129811]\n",
      " [ 0.07870189 -4.00658768]]\n",
      "\n",
      "\t i = 9\n",
      "eigenvalues = \n",
      " [[ 6.99573501  1.04488232]\n",
      " [ 0.04488232 -3.99573501]]\n",
      "\n",
      "\t i = 10\n",
      "eigenvalues = \n",
      " [[ 7.00227389 -0.97432274]\n",
      " [ 0.02567726 -4.00227389]]\n",
      "\n",
      "\t i = 11\n",
      "eigenvalues = \n",
      " [[ 6.99864729  1.014663  ]\n",
      " [ 0.014663   -3.99864729]]\n",
      "\n",
      "\t i = 12\n",
      "eigenvalues = \n",
      " [[ 7.00075557 -0.99161794]\n",
      " [ 0.00838206 -4.00075557]]\n",
      "\n",
      "\t i = 13\n",
      "eigenvalues = \n",
      " [[ 6.99956256e+00  1.00478871e+00]\n",
      " [ 4.78870660e-03 -3.99956256e+00]]\n",
      "\n",
      "\t i = 14\n",
      "eigenvalues = \n",
      " [[ 7.00024811e+00 -9.97263255e-01]\n",
      " [ 2.73674453e-03 -4.00024811e+00]]\n",
      "\n",
      "\t i = 15\n",
      "eigenvalues = \n",
      " [[ 6.99985762e+00  1.00156374e+00]\n",
      " [ 1.56374292e-03 -3.99985762e+00]]\n",
      "\n",
      "\t i = 16\n",
      "eigenvalues = \n",
      " [[ 7.00008116e+00 -9.99106396e-01]\n",
      " [ 8.93603692e-04 -4.00008116e+00]]\n",
      "\n",
      "\t i = 17\n",
      "eigenvalues = \n",
      " [[ 6.99995356e+00  1.00051062e+00]\n",
      " [ 5.10618832e-04 -3.99995356e+00]]\n",
      "\n",
      "\t i = 18\n",
      "eigenvalues = \n",
      " [[ 7.00002652e+00 -9.99708214e-01]\n",
      " [ 2.91786060e-04 -4.00002652e+00]]\n",
      "\n",
      "\t i = 19\n",
      "eigenvalues = \n",
      " [[ 6.99998484e+00  1.00016673e+00]\n",
      " [ 1.66733628e-04 -3.99998484e+00]]\n",
      "Ak = \n",
      " [[ 6.999985e+00  1.000167e+00]\n",
      " [ 1.670000e-04 -3.999985e+00]]\n",
      "eigenvalues =  [ 6.99998484 -3.99998484]\n",
      "eigenvalues from eig =  [-4.  7.]\n"
     ]
    }
   ],
   "source": [
    "# QR algorithm\n",
    "# eigenvalues and eigenvectors\n",
    "A = np.array([[1, 6], \n",
    "              [5, 2]])\n",
    "print('A = \\n', A)\n",
    "Ak = A\n",
    "Q = np.eye(2)\n",
    "for i in range(20):\n",
    "    q, r = LA.qr(Ak)\n",
    "    Ak = r @ q\n",
    "    print('\\n\\t i = %d' % i)\n",
    "    print('eigenvalues = \\n', Ak)\n",
    "\n",
    "print('Ak = \\n', np.round(Ak, 6))\n",
    "print('eigenvalues = ', np.diag(Ak))\n",
    "\n",
    "w, v = LA.eig(A)\n",
    "print('eigenvalues from eig = ', w)"
   ]
  },
  {
   "cell_type": "code",
   "execution_count": null,
   "metadata": {},
   "outputs": [],
   "source": []
  }
 ],
 "metadata": {
  "kernelspec": {
   "display_name": "Python 3 (ipykernel)",
   "language": "python",
   "name": "python3"
  },
  "language_info": {
   "codemirror_mode": {
    "name": "ipython",
    "version": 3
   },
   "file_extension": ".py",
   "mimetype": "text/x-python",
   "name": "python",
   "nbconvert_exporter": "python",
   "pygments_lexer": "ipython3",
   "version": "3.9.1"
  }
 },
 "nbformat": 4,
 "nbformat_minor": 4
}
