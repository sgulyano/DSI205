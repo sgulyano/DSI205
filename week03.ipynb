{
 "cells": [
  {
   "cell_type": "code",
   "execution_count": null,
   "metadata": {},
   "outputs": [],
   "source": [
    "# mxn matrix\n",
    "A = [[10, 2], \n",
    "     [3, 4], \n",
    "     [5, 6]]\n",
    "# nxp matrix\n",
    "B = [[6, 5, 4, 3],\n",
    "     [2, 1, 0, -1]]\n",
    "# result is mxp matrix\n",
    "C = [[0 for j in B[0]] for i in A]\n",
    "\n",
    "for i in range(len(A)):\n",
    "    for j in range(len(B[0])):\n",
    "        for k in range(len(B)):\n",
    "            C[i][j] += A[i][k] * B[k][j]\n",
    "\n",
    "for r in C:\n",
    "    print(r)\n"
   ]
  },
  {
   "cell_type": "code",
   "execution_count": null,
   "metadata": {},
   "outputs": [],
   "source": [
    "import numpy as np\n",
    "a = np.array([[1, 2, 3], \n",
    "              [3, 4, 5], \n",
    "              [5, 6, 9]])\n",
    "b = np.array([[6, 5, 4, 3], \n",
    "              [2, 1, 0, -1]])\n",
    "print(np.matmul(a, b))"
   ]
  }
 ],
 "metadata": {
  "kernelspec": {
   "display_name": "Python 3",
   "language": "python",
   "name": "python3"
  },
  "language_info": {
   "codemirror_mode": {
    "name": "ipython",
    "version": 3
   },
   "file_extension": ".py",
   "mimetype": "text/x-python",
   "name": "python",
   "nbconvert_exporter": "python",
   "pygments_lexer": "ipython3",
   "version": "3.7.3"
  }
 },
 "nbformat": 4,
 "nbformat_minor": 4
}
